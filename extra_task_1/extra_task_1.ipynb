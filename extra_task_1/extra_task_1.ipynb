{
 "cells": [
  {
   "cell_type": "code",
   "execution_count": 1,
   "metadata": {},
   "outputs": [],
   "source": [
    "import os\n",
    "import torch\n",
    "import random\n",
    "import numpy as np\n",
    "import pandas as pd\n",
    "import torch.nn as nn\n",
    "import torch.optim as optim\n",
    "\n",
    "from tqdm.notebook import tqdm\n",
    "from torch.utils.data import DataLoader, Dataset\n",
    "from sklearn.metrics import classification_report\n",
    "from sklearn.model_selection import train_test_split"
   ]
  },
  {
   "cell_type": "code",
   "execution_count": 2,
   "metadata": {},
   "outputs": [
    {
     "name": "stdout",
     "output_type": "stream",
     "text": [
      "Random seed set as 42\n"
     ]
    }
   ],
   "source": [
    "def set_seed(seed: int = 42) -> None:\n",
    "    np.random.seed(seed)\n",
    "    random.seed(seed)\n",
    "    torch.manual_seed(seed)\n",
    "    torch.cuda.manual_seed(seed)\n",
    "    torch.backends.cudnn.deterministic = True\n",
    "    torch.backends.cudnn.benchmark = False\n",
    "    os.environ[\"PYTHONHASHSEED\"] = str(seed)\n",
    "    print(f\"Random seed set as {seed}\")\n",
    "\n",
    "\n",
    "set_seed(42)"
   ]
  },
  {
   "cell_type": "markdown",
   "metadata": {},
   "source": [
    "# Загрузка датасета"
   ]
  },
  {
   "cell_type": "code",
   "execution_count": 3,
   "metadata": {},
   "outputs": [
    {
     "data": {
      "text/html": [
       "<div>\n",
       "<style scoped>\n",
       "    .dataframe tbody tr th:only-of-type {\n",
       "        vertical-align: middle;\n",
       "    }\n",
       "\n",
       "    .dataframe tbody tr th {\n",
       "        vertical-align: top;\n",
       "    }\n",
       "\n",
       "    .dataframe thead th {\n",
       "        text-align: right;\n",
       "    }\n",
       "</style>\n",
       "<table border=\"1\" class=\"dataframe\">\n",
       "  <thead>\n",
       "    <tr style=\"text-align: right;\">\n",
       "      <th></th>\n",
       "      <th>Temperature</th>\n",
       "      <th>Humidity</th>\n",
       "      <th>PM2.5</th>\n",
       "      <th>PM10</th>\n",
       "      <th>NO2</th>\n",
       "      <th>SO2</th>\n",
       "      <th>CO</th>\n",
       "      <th>Proximity_to_Industrial_Areas</th>\n",
       "      <th>Population_Density</th>\n",
       "      <th>air_quality</th>\n",
       "    </tr>\n",
       "  </thead>\n",
       "  <tbody>\n",
       "    <tr>\n",
       "      <th>0</th>\n",
       "      <td>29.8</td>\n",
       "      <td>59.1</td>\n",
       "      <td>5.2</td>\n",
       "      <td>17.9</td>\n",
       "      <td>18.9</td>\n",
       "      <td>9.2</td>\n",
       "      <td>1.72</td>\n",
       "      <td>6.3</td>\n",
       "      <td>319</td>\n",
       "      <td>1</td>\n",
       "    </tr>\n",
       "    <tr>\n",
       "      <th>1</th>\n",
       "      <td>28.3</td>\n",
       "      <td>75.6</td>\n",
       "      <td>2.3</td>\n",
       "      <td>12.2</td>\n",
       "      <td>30.8</td>\n",
       "      <td>9.7</td>\n",
       "      <td>1.64</td>\n",
       "      <td>6.0</td>\n",
       "      <td>611</td>\n",
       "      <td>1</td>\n",
       "    </tr>\n",
       "    <tr>\n",
       "      <th>2</th>\n",
       "      <td>23.1</td>\n",
       "      <td>74.7</td>\n",
       "      <td>26.7</td>\n",
       "      <td>33.8</td>\n",
       "      <td>24.4</td>\n",
       "      <td>12.6</td>\n",
       "      <td>1.63</td>\n",
       "      <td>5.2</td>\n",
       "      <td>619</td>\n",
       "      <td>1</td>\n",
       "    </tr>\n",
       "    <tr>\n",
       "      <th>3</th>\n",
       "      <td>27.1</td>\n",
       "      <td>39.1</td>\n",
       "      <td>6.1</td>\n",
       "      <td>6.3</td>\n",
       "      <td>13.5</td>\n",
       "      <td>5.3</td>\n",
       "      <td>1.15</td>\n",
       "      <td>11.1</td>\n",
       "      <td>551</td>\n",
       "      <td>1</td>\n",
       "    </tr>\n",
       "    <tr>\n",
       "      <th>4</th>\n",
       "      <td>26.5</td>\n",
       "      <td>70.7</td>\n",
       "      <td>6.9</td>\n",
       "      <td>16.0</td>\n",
       "      <td>21.9</td>\n",
       "      <td>5.6</td>\n",
       "      <td>1.01</td>\n",
       "      <td>12.7</td>\n",
       "      <td>303</td>\n",
       "      <td>1</td>\n",
       "    </tr>\n",
       "  </tbody>\n",
       "</table>\n",
       "</div>"
      ],
      "text/plain": [
       "   Temperature  Humidity  PM2.5  PM10   NO2   SO2    CO  \\\n",
       "0         29.8      59.1    5.2  17.9  18.9   9.2  1.72   \n",
       "1         28.3      75.6    2.3  12.2  30.8   9.7  1.64   \n",
       "2         23.1      74.7   26.7  33.8  24.4  12.6  1.63   \n",
       "3         27.1      39.1    6.1   6.3  13.5   5.3  1.15   \n",
       "4         26.5      70.7    6.9  16.0  21.9   5.6  1.01   \n",
       "\n",
       "   Proximity_to_Industrial_Areas  Population_Density  air_quality  \n",
       "0                            6.3                 319            1  \n",
       "1                            6.0                 611            1  \n",
       "2                            5.2                 619            1  \n",
       "3                           11.1                 551            1  \n",
       "4                           12.7                 303            1  "
      ]
     },
     "execution_count": 3,
     "metadata": {},
     "output_type": "execute_result"
    }
   ],
   "source": [
    "df = pd.read_csv(\"air_quality.csv\", sep=\",\")\n",
    "\n",
    "df.head()"
   ]
  },
  {
   "cell_type": "code",
   "execution_count": 4,
   "metadata": {},
   "outputs": [
    {
     "data": {
      "text/html": [
       "<div>\n",
       "<style scoped>\n",
       "    .dataframe tbody tr th:only-of-type {\n",
       "        vertical-align: middle;\n",
       "    }\n",
       "\n",
       "    .dataframe tbody tr th {\n",
       "        vertical-align: top;\n",
       "    }\n",
       "\n",
       "    .dataframe thead th {\n",
       "        text-align: right;\n",
       "    }\n",
       "</style>\n",
       "<table border=\"1\" class=\"dataframe\">\n",
       "  <thead>\n",
       "    <tr style=\"text-align: right;\">\n",
       "      <th></th>\n",
       "      <th>Temperature</th>\n",
       "      <th>Humidity</th>\n",
       "      <th>PM2.5</th>\n",
       "      <th>PM10</th>\n",
       "      <th>NO2</th>\n",
       "      <th>SO2</th>\n",
       "      <th>CO</th>\n",
       "      <th>Proximity_to_Industrial_Areas</th>\n",
       "      <th>Population_Density</th>\n",
       "      <th>air_quality</th>\n",
       "    </tr>\n",
       "  </thead>\n",
       "  <tbody>\n",
       "    <tr>\n",
       "      <th>count</th>\n",
       "      <td>5000.000000</td>\n",
       "      <td>5000.000000</td>\n",
       "      <td>5000.000000</td>\n",
       "      <td>5000.000000</td>\n",
       "      <td>5000.000000</td>\n",
       "      <td>5000.000000</td>\n",
       "      <td>5000.000000</td>\n",
       "      <td>5000.000000</td>\n",
       "      <td>5000.000000</td>\n",
       "      <td>5000.000000</td>\n",
       "    </tr>\n",
       "    <tr>\n",
       "      <th>mean</th>\n",
       "      <td>30.029020</td>\n",
       "      <td>70.056120</td>\n",
       "      <td>20.142140</td>\n",
       "      <td>30.218360</td>\n",
       "      <td>26.412100</td>\n",
       "      <td>10.014820</td>\n",
       "      <td>1.500354</td>\n",
       "      <td>8.425400</td>\n",
       "      <td>497.423800</td>\n",
       "      <td>0.700000</td>\n",
       "    </tr>\n",
       "    <tr>\n",
       "      <th>std</th>\n",
       "      <td>6.720661</td>\n",
       "      <td>15.863577</td>\n",
       "      <td>24.554546</td>\n",
       "      <td>27.349199</td>\n",
       "      <td>8.895356</td>\n",
       "      <td>6.750303</td>\n",
       "      <td>0.546027</td>\n",
       "      <td>3.610944</td>\n",
       "      <td>152.754084</td>\n",
       "      <td>0.458303</td>\n",
       "    </tr>\n",
       "    <tr>\n",
       "      <th>min</th>\n",
       "      <td>13.400000</td>\n",
       "      <td>36.000000</td>\n",
       "      <td>0.000000</td>\n",
       "      <td>-0.200000</td>\n",
       "      <td>7.400000</td>\n",
       "      <td>-6.200000</td>\n",
       "      <td>0.650000</td>\n",
       "      <td>2.500000</td>\n",
       "      <td>188.000000</td>\n",
       "      <td>0.000000</td>\n",
       "    </tr>\n",
       "    <tr>\n",
       "      <th>25%</th>\n",
       "      <td>25.100000</td>\n",
       "      <td>58.300000</td>\n",
       "      <td>4.600000</td>\n",
       "      <td>12.300000</td>\n",
       "      <td>20.100000</td>\n",
       "      <td>5.100000</td>\n",
       "      <td>1.030000</td>\n",
       "      <td>5.400000</td>\n",
       "      <td>381.000000</td>\n",
       "      <td>0.000000</td>\n",
       "    </tr>\n",
       "    <tr>\n",
       "      <th>50%</th>\n",
       "      <td>29.000000</td>\n",
       "      <td>69.800000</td>\n",
       "      <td>12.000000</td>\n",
       "      <td>21.700000</td>\n",
       "      <td>25.300000</td>\n",
       "      <td>8.000000</td>\n",
       "      <td>1.410000</td>\n",
       "      <td>7.900000</td>\n",
       "      <td>494.000000</td>\n",
       "      <td>1.000000</td>\n",
       "    </tr>\n",
       "    <tr>\n",
       "      <th>75%</th>\n",
       "      <td>34.000000</td>\n",
       "      <td>80.300000</td>\n",
       "      <td>26.100000</td>\n",
       "      <td>38.100000</td>\n",
       "      <td>31.900000</td>\n",
       "      <td>13.725000</td>\n",
       "      <td>1.840000</td>\n",
       "      <td>11.100000</td>\n",
       "      <td>600.000000</td>\n",
       "      <td>1.000000</td>\n",
       "    </tr>\n",
       "    <tr>\n",
       "      <th>max</th>\n",
       "      <td>58.600000</td>\n",
       "      <td>128.100000</td>\n",
       "      <td>295.000000</td>\n",
       "      <td>315.800000</td>\n",
       "      <td>64.900000</td>\n",
       "      <td>44.900000</td>\n",
       "      <td>3.720000</td>\n",
       "      <td>25.800000</td>\n",
       "      <td>957.000000</td>\n",
       "      <td>1.000000</td>\n",
       "    </tr>\n",
       "  </tbody>\n",
       "</table>\n",
       "</div>"
      ],
      "text/plain": [
       "       Temperature     Humidity        PM2.5         PM10          NO2  \\\n",
       "count  5000.000000  5000.000000  5000.000000  5000.000000  5000.000000   \n",
       "mean     30.029020    70.056120    20.142140    30.218360    26.412100   \n",
       "std       6.720661    15.863577    24.554546    27.349199     8.895356   \n",
       "min      13.400000    36.000000     0.000000    -0.200000     7.400000   \n",
       "25%      25.100000    58.300000     4.600000    12.300000    20.100000   \n",
       "50%      29.000000    69.800000    12.000000    21.700000    25.300000   \n",
       "75%      34.000000    80.300000    26.100000    38.100000    31.900000   \n",
       "max      58.600000   128.100000   295.000000   315.800000    64.900000   \n",
       "\n",
       "               SO2           CO  Proximity_to_Industrial_Areas  \\\n",
       "count  5000.000000  5000.000000                    5000.000000   \n",
       "mean     10.014820     1.500354                       8.425400   \n",
       "std       6.750303     0.546027                       3.610944   \n",
       "min      -6.200000     0.650000                       2.500000   \n",
       "25%       5.100000     1.030000                       5.400000   \n",
       "50%       8.000000     1.410000                       7.900000   \n",
       "75%      13.725000     1.840000                      11.100000   \n",
       "max      44.900000     3.720000                      25.800000   \n",
       "\n",
       "       Population_Density  air_quality  \n",
       "count         5000.000000  5000.000000  \n",
       "mean           497.423800     0.700000  \n",
       "std            152.754084     0.458303  \n",
       "min            188.000000     0.000000  \n",
       "25%            381.000000     0.000000  \n",
       "50%            494.000000     1.000000  \n",
       "75%            600.000000     1.000000  \n",
       "max            957.000000     1.000000  "
      ]
     },
     "execution_count": 4,
     "metadata": {},
     "output_type": "execute_result"
    }
   ],
   "source": [
    "df.describe()"
   ]
  },
  {
   "cell_type": "code",
   "execution_count": 5,
   "metadata": {},
   "outputs": [
    {
     "data": {
      "text/plain": [
       "(5000, 10)"
      ]
     },
     "execution_count": 5,
     "metadata": {},
     "output_type": "execute_result"
    }
   ],
   "source": [
    "df.shape"
   ]
  },
  {
   "cell_type": "markdown",
   "metadata": {},
   "source": [
    "# Подготовка данных"
   ]
  },
  {
   "cell_type": "markdown",
   "metadata": {},
   "source": [
    "Разделение датасета на обучающую, валидационную и тестовую выборку со стратификацией"
   ]
  },
  {
   "cell_type": "code",
   "execution_count": 6,
   "metadata": {},
   "outputs": [
    {
     "name": "stdout",
     "output_type": "stream",
     "text": [
      "Всего (100.0%): 5000\n",
      "Тренировачный (60.0%): 3000\n",
      "Валидационный (20.0%): 1000\n",
      "Тестовый (20.0%): 1000\n"
     ]
    }
   ],
   "source": [
    "# Размеры выборок\n",
    "train_size = 0.6\n",
    "val_size = 0.2\n",
    "test_size = 0.2\n",
    "\n",
    "# Разделение признаков и целевой переменной\n",
    "X = df.drop(columns=[\"air_quality\"])\n",
    "y = df[\"air_quality\"]\n",
    "\n",
    "# Разбивка\n",
    "X_train, X_temp, y_train, y_temp = train_test_split(\n",
    "    X, y, train_size=train_size, random_state=12, stratify=y\n",
    ")\n",
    "X_val, X_test, y_val, y_test = train_test_split(\n",
    "    X_temp,\n",
    "    y_temp,\n",
    "    test_size=(test_size / (test_size + val_size)),\n",
    "    random_state=12,\n",
    "    stratify=y_temp,\n",
    ")\n",
    "\n",
    "# Вывод результата\n",
    "print(f\"Всего ({1.0*100}%): {df.shape[0]}\")\n",
    "print(f\"Тренировачный ({train_size*100}%): {X_train.shape[0]}\")\n",
    "print(f\"Валидационный ({val_size*100}%): {X_val.shape[0]}\")\n",
    "print(f\"Тестовый ({test_size*100}%): {X_test.shape[0]}\")"
   ]
  },
  {
   "cell_type": "markdown",
   "metadata": {},
   "source": [
    "Создание объектов для работы с данными"
   ]
  },
  {
   "cell_type": "code",
   "execution_count": 7,
   "metadata": {},
   "outputs": [],
   "source": [
    "class CustomDataset(Dataset):\n",
    "    def __init__(self, X, y):\n",
    "        self.X = torch.Tensor(X.values)\n",
    "        self.y = torch.from_numpy(y.values).reshape(-1, 1).float()\n",
    "\n",
    "    def __len__(self):\n",
    "        return self.X.shape[0]\n",
    "\n",
    "    def __getitem__(self, index):\n",
    "        return (self.X[index], self.y[index])"
   ]
  },
  {
   "cell_type": "code",
   "execution_count": 8,
   "metadata": {},
   "outputs": [],
   "source": [
    "train_dataset = CustomDataset(X_train, y_train)\n",
    "val_dataset = CustomDataset(X_val, y_val)\n",
    "test_dataset = CustomDataset(X_test, y_test)"
   ]
  },
  {
   "cell_type": "code",
   "execution_count": 9,
   "metadata": {},
   "outputs": [],
   "source": [
    "train_dataloader = DataLoader(train_dataset, batch_size=32, shuffle=True)\n",
    "val_dataloader = DataLoader(val_dataset, batch_size=32, shuffle=False)\n",
    "test_dataloader = DataLoader(test_dataset, batch_size=32, shuffle=False)"
   ]
  },
  {
   "cell_type": "markdown",
   "metadata": {},
   "source": [
    "# Нейросетевая модель"
   ]
  },
  {
   "cell_type": "code",
   "execution_count": 10,
   "metadata": {},
   "outputs": [],
   "source": [
    "class CustomModel(nn.Module):\n",
    "    def __init__(self, inputs_size, hidden_size, out_size, hidden_count):\n",
    "        super(CustomModel, self).__init__()\n",
    "        self.linear_in = nn.Linear(inputs_size, hidden_size)\n",
    "        self.linear_hiddens = nn.ModuleList()\n",
    "        for _ in range(hidden_count):\n",
    "            self.linear_hiddens.append(nn.Linear(hidden_size, hidden_size))\n",
    "        self.linear_out = nn.Linear(hidden_size, out_size)\n",
    "\n",
    "    def forward(self, x):\n",
    "        x = self.linear_in(x)\n",
    "        x = torch.relu(x)\n",
    "        for linear_hidden in self.linear_hiddens:\n",
    "            x = linear_hidden(x)\n",
    "            x = torch.relu(x)\n",
    "        x = self.linear_out(x)\n",
    "        y_pred = torch.sigmoid(x)\n",
    "        return y_pred"
   ]
  },
  {
   "cell_type": "code",
   "execution_count": 11,
   "metadata": {},
   "outputs": [],
   "source": [
    "device = torch.device(\"cuda:0\" if torch.cuda.is_available() else \"cpu\")"
   ]
  },
  {
   "cell_type": "code",
   "execution_count": 12,
   "metadata": {},
   "outputs": [],
   "source": [
    "model = CustomModel(inputs_size=9, hidden_size=100, out_size=1, hidden_count=4)"
   ]
  },
  {
   "cell_type": "markdown",
   "metadata": {},
   "source": [
    "# Код обучения и оценки модели"
   ]
  },
  {
   "cell_type": "code",
   "execution_count": 13,
   "metadata": {},
   "outputs": [],
   "source": [
    "def train_loop(model, train_dataloader, val_dataloader, epochs=20, lr=0.001):\n",
    "    model.to(device)\n",
    "    criterion = nn.BCELoss()\n",
    "    optimizer = optim.SGD(model.parameters(), lr=lr)\n",
    "    for epoch in range(epochs):\n",
    "        model.train()\n",
    "        train_loss = 0.0\n",
    "\n",
    "        # Обучающая часть цикла\n",
    "        for batch in (\n",
    "            tqdm(train_dataloader, desc=f\"Epoch {epoch+1}/{epochs} [Training]\")\n",
    "            if ((epoch + 1) % 100 == 0 or epoch == 0)\n",
    "            else train_dataloader\n",
    "        ):\n",
    "            X_batch, y_batch = batch\n",
    "            X_batch, y_batch = X_batch.to(device), y_batch.to(device)\n",
    "            optimizer.zero_grad()\n",
    "            y_pred = model(X_batch)\n",
    "            loss = criterion(y_pred, y_batch)\n",
    "            loss.backward()\n",
    "            optimizer.step()\n",
    "            train_loss += loss.item() * X_batch.size(0)\n",
    "        train_loss /= len(train_dataloader.dataset)\n",
    "\n",
    "        # Валидационная часть цикла\n",
    "        model.eval()\n",
    "        val_loss = 0.0\n",
    "        with torch.no_grad():\n",
    "            for batch in (\n",
    "                tqdm(val_dataloader, desc=f\"Epoch {epoch+1}/{epochs} [Training]\")\n",
    "                if ((epoch + 1) % 100 == 0 or epoch == 0)\n",
    "                else val_dataloader\n",
    "            ):\n",
    "                X_batch, y_batch = batch\n",
    "                X_batch, y_batch = X_batch.to(device), y_batch.to(device)\n",
    "                y_pred = model(X_batch)\n",
    "                loss = criterion(y_pred, y_batch)\n",
    "                val_loss += loss.item() * X_batch.size(0)\n",
    "        val_loss /= len(val_dataloader.dataset)\n",
    "        if (epoch + 1) % 100 == 0 or epoch == 0:\n",
    "            print(\n",
    "                f\"Epoch [{epoch+1}/{epochs}] - Train Loss: {train_loss:.4f} - Val Loss: {val_loss:.4f}\"\n",
    "            )\n",
    "    print(\"Обучение завершено!\")"
   ]
  },
  {
   "cell_type": "code",
   "execution_count": 14,
   "metadata": {},
   "outputs": [],
   "source": [
    "def evaluate_model(model, test_dataloader):\n",
    "    model.eval()\n",
    "    all_predictions = []\n",
    "    all_labels = []\n",
    "\n",
    "    with torch.no_grad():\n",
    "        for inputs, labels in test_dataloader:\n",
    "            inputs = inputs.to(device)\n",
    "            outputs = model(inputs)\n",
    "            predicted = (outputs > 0.5).float().cpu().numpy()\n",
    "            all_predictions.extend(predicted)\n",
    "            all_labels.extend(labels.numpy())\n",
    "\n",
    "    return np.array(all_predictions), np.array(all_labels)"
   ]
  },
  {
   "cell_type": "markdown",
   "metadata": {},
   "source": [
    "# Обучение модели и проверка качества"
   ]
  },
  {
   "cell_type": "code",
   "execution_count": 15,
   "metadata": {},
   "outputs": [
    {
     "data": {
      "application/vnd.jupyter.widget-view+json": {
       "model_id": "fbdb8baec41046b9916ecfce36f0a3d1",
       "version_major": 2,
       "version_minor": 0
      },
      "text/plain": [
       "Epoch 1/1000 [Training]:   0%|          | 0/94 [00:00<?, ?it/s]"
      ]
     },
     "metadata": {},
     "output_type": "display_data"
    },
    {
     "data": {
      "application/vnd.jupyter.widget-view+json": {
       "model_id": "09990e529bdc41599a7efcd72920ec8d",
       "version_major": 2,
       "version_minor": 0
      },
      "text/plain": [
       "Epoch 1/1000 [Training]:   0%|          | 0/32 [00:00<?, ?it/s]"
      ]
     },
     "metadata": {},
     "output_type": "display_data"
    },
    {
     "name": "stdout",
     "output_type": "stream",
     "text": [
      "Epoch [1/1000] - Train Loss: 0.6604 - Val Loss: 0.6446\n"
     ]
    },
    {
     "data": {
      "application/vnd.jupyter.widget-view+json": {
       "model_id": "f44443a3785d433e95fd71132b71fe25",
       "version_major": 2,
       "version_minor": 0
      },
      "text/plain": [
       "Epoch 100/1000 [Training]:   0%|          | 0/94 [00:00<?, ?it/s]"
      ]
     },
     "metadata": {},
     "output_type": "display_data"
    },
    {
     "data": {
      "application/vnd.jupyter.widget-view+json": {
       "model_id": "8a92e9ffacc54877862e316f107bd8f0",
       "version_major": 2,
       "version_minor": 0
      },
      "text/plain": [
       "Epoch 100/1000 [Training]:   0%|          | 0/32 [00:00<?, ?it/s]"
      ]
     },
     "metadata": {},
     "output_type": "display_data"
    },
    {
     "name": "stdout",
     "output_type": "stream",
     "text": [
      "Epoch [100/1000] - Train Loss: 0.3121 - Val Loss: 0.2853\n"
     ]
    },
    {
     "data": {
      "application/vnd.jupyter.widget-view+json": {
       "model_id": "192c824b0da84515b9f66ed576a89164",
       "version_major": 2,
       "version_minor": 0
      },
      "text/plain": [
       "Epoch 200/1000 [Training]:   0%|          | 0/94 [00:00<?, ?it/s]"
      ]
     },
     "metadata": {},
     "output_type": "display_data"
    },
    {
     "data": {
      "application/vnd.jupyter.widget-view+json": {
       "model_id": "40c7ca474729442ca13c518a697c5020",
       "version_major": 2,
       "version_minor": 0
      },
      "text/plain": [
       "Epoch 200/1000 [Training]:   0%|          | 0/32 [00:00<?, ?it/s]"
      ]
     },
     "metadata": {},
     "output_type": "display_data"
    },
    {
     "name": "stdout",
     "output_type": "stream",
     "text": [
      "Epoch [200/1000] - Train Loss: 0.2745 - Val Loss: 0.2598\n"
     ]
    },
    {
     "data": {
      "application/vnd.jupyter.widget-view+json": {
       "model_id": "63e1d3f60e72458ea72d1a864bd91dda",
       "version_major": 2,
       "version_minor": 0
      },
      "text/plain": [
       "Epoch 300/1000 [Training]:   0%|          | 0/94 [00:00<?, ?it/s]"
      ]
     },
     "metadata": {},
     "output_type": "display_data"
    },
    {
     "data": {
      "application/vnd.jupyter.widget-view+json": {
       "model_id": "e0a94503efc84dae80a927c2fe743082",
       "version_major": 2,
       "version_minor": 0
      },
      "text/plain": [
       "Epoch 300/1000 [Training]:   0%|          | 0/32 [00:00<?, ?it/s]"
      ]
     },
     "metadata": {},
     "output_type": "display_data"
    },
    {
     "name": "stdout",
     "output_type": "stream",
     "text": [
      "Epoch [300/1000] - Train Loss: 0.2424 - Val Loss: 0.2404\n"
     ]
    },
    {
     "data": {
      "application/vnd.jupyter.widget-view+json": {
       "model_id": "231c08311ea543e5a1c7489867d09ce0",
       "version_major": 2,
       "version_minor": 0
      },
      "text/plain": [
       "Epoch 400/1000 [Training]:   0%|          | 0/94 [00:00<?, ?it/s]"
      ]
     },
     "metadata": {},
     "output_type": "display_data"
    },
    {
     "data": {
      "application/vnd.jupyter.widget-view+json": {
       "model_id": "f1297b5845a045b1be14abe61f2911c5",
       "version_major": 2,
       "version_minor": 0
      },
      "text/plain": [
       "Epoch 400/1000 [Training]:   0%|          | 0/32 [00:00<?, ?it/s]"
      ]
     },
     "metadata": {},
     "output_type": "display_data"
    },
    {
     "name": "stdout",
     "output_type": "stream",
     "text": [
      "Epoch [400/1000] - Train Loss: 0.2284 - Val Loss: 0.2719\n"
     ]
    },
    {
     "data": {
      "application/vnd.jupyter.widget-view+json": {
       "model_id": "2a3398ecc0ae4340a415d50cf9492ac7",
       "version_major": 2,
       "version_minor": 0
      },
      "text/plain": [
       "Epoch 500/1000 [Training]:   0%|          | 0/94 [00:00<?, ?it/s]"
      ]
     },
     "metadata": {},
     "output_type": "display_data"
    },
    {
     "data": {
      "application/vnd.jupyter.widget-view+json": {
       "model_id": "716edaa993f64d11943ed07090b256ab",
       "version_major": 2,
       "version_minor": 0
      },
      "text/plain": [
       "Epoch 500/1000 [Training]:   0%|          | 0/32 [00:00<?, ?it/s]"
      ]
     },
     "metadata": {},
     "output_type": "display_data"
    },
    {
     "name": "stdout",
     "output_type": "stream",
     "text": [
      "Epoch [500/1000] - Train Loss: 0.2114 - Val Loss: 0.2384\n"
     ]
    },
    {
     "data": {
      "application/vnd.jupyter.widget-view+json": {
       "model_id": "1bce7489b6904caab4ab3b97de6dde99",
       "version_major": 2,
       "version_minor": 0
      },
      "text/plain": [
       "Epoch 600/1000 [Training]:   0%|          | 0/94 [00:00<?, ?it/s]"
      ]
     },
     "metadata": {},
     "output_type": "display_data"
    },
    {
     "data": {
      "application/vnd.jupyter.widget-view+json": {
       "model_id": "e5cd248069414fcd8af83c281d50565a",
       "version_major": 2,
       "version_minor": 0
      },
      "text/plain": [
       "Epoch 600/1000 [Training]:   0%|          | 0/32 [00:00<?, ?it/s]"
      ]
     },
     "metadata": {},
     "output_type": "display_data"
    },
    {
     "name": "stdout",
     "output_type": "stream",
     "text": [
      "Epoch [600/1000] - Train Loss: 0.2148 - Val Loss: 0.2340\n"
     ]
    },
    {
     "data": {
      "application/vnd.jupyter.widget-view+json": {
       "model_id": "36766f2711624b6ebe8e1040284d27cf",
       "version_major": 2,
       "version_minor": 0
      },
      "text/plain": [
       "Epoch 700/1000 [Training]:   0%|          | 0/94 [00:00<?, ?it/s]"
      ]
     },
     "metadata": {},
     "output_type": "display_data"
    },
    {
     "data": {
      "application/vnd.jupyter.widget-view+json": {
       "model_id": "7897269fc731422c8bc264693124b62d",
       "version_major": 2,
       "version_minor": 0
      },
      "text/plain": [
       "Epoch 700/1000 [Training]:   0%|          | 0/32 [00:00<?, ?it/s]"
      ]
     },
     "metadata": {},
     "output_type": "display_data"
    },
    {
     "name": "stdout",
     "output_type": "stream",
     "text": [
      "Epoch [700/1000] - Train Loss: 0.1916 - Val Loss: 0.2015\n"
     ]
    },
    {
     "data": {
      "application/vnd.jupyter.widget-view+json": {
       "model_id": "1b326968478d47abb2203f5415348a3a",
       "version_major": 2,
       "version_minor": 0
      },
      "text/plain": [
       "Epoch 800/1000 [Training]:   0%|          | 0/94 [00:00<?, ?it/s]"
      ]
     },
     "metadata": {},
     "output_type": "display_data"
    },
    {
     "data": {
      "application/vnd.jupyter.widget-view+json": {
       "model_id": "1015573454f94aa8b1e362d622b5a5ab",
       "version_major": 2,
       "version_minor": 0
      },
      "text/plain": [
       "Epoch 800/1000 [Training]:   0%|          | 0/32 [00:00<?, ?it/s]"
      ]
     },
     "metadata": {},
     "output_type": "display_data"
    },
    {
     "name": "stdout",
     "output_type": "stream",
     "text": [
      "Epoch [800/1000] - Train Loss: 0.2015 - Val Loss: 0.1927\n"
     ]
    },
    {
     "data": {
      "application/vnd.jupyter.widget-view+json": {
       "model_id": "60e23399b1e643f895608b8cb15d4423",
       "version_major": 2,
       "version_minor": 0
      },
      "text/plain": [
       "Epoch 900/1000 [Training]:   0%|          | 0/94 [00:00<?, ?it/s]"
      ]
     },
     "metadata": {},
     "output_type": "display_data"
    },
    {
     "data": {
      "application/vnd.jupyter.widget-view+json": {
       "model_id": "c5e4d517355e415c990e52ec2a900115",
       "version_major": 2,
       "version_minor": 0
      },
      "text/plain": [
       "Epoch 900/1000 [Training]:   0%|          | 0/32 [00:00<?, ?it/s]"
      ]
     },
     "metadata": {},
     "output_type": "display_data"
    },
    {
     "name": "stdout",
     "output_type": "stream",
     "text": [
      "Epoch [900/1000] - Train Loss: 0.1519 - Val Loss: 0.2807\n"
     ]
    },
    {
     "data": {
      "application/vnd.jupyter.widget-view+json": {
       "model_id": "68baba86efee401ca64db1905ec68d0f",
       "version_major": 2,
       "version_minor": 0
      },
      "text/plain": [
       "Epoch 1000/1000 [Training]:   0%|          | 0/94 [00:00<?, ?it/s]"
      ]
     },
     "metadata": {},
     "output_type": "display_data"
    },
    {
     "data": {
      "application/vnd.jupyter.widget-view+json": {
       "model_id": "d13c0cd256bc4d14ab11b466c4e3f35e",
       "version_major": 2,
       "version_minor": 0
      },
      "text/plain": [
       "Epoch 1000/1000 [Training]:   0%|          | 0/32 [00:00<?, ?it/s]"
      ]
     },
     "metadata": {},
     "output_type": "display_data"
    },
    {
     "name": "stdout",
     "output_type": "stream",
     "text": [
      "Epoch [1000/1000] - Train Loss: 0.1497 - Val Loss: 0.1856\n",
      "Обучение завершено!\n",
      "CPU times: user 33min 9s, sys: 727 ms, total: 33min 10s\n",
      "Wall time: 2min 22s\n"
     ]
    }
   ],
   "source": [
    "%%time\n",
    "train_loop(model, train_dataloader, val_dataloader, 1000)"
   ]
  },
  {
   "cell_type": "code",
   "execution_count": 19,
   "metadata": {},
   "outputs": [
    {
     "name": "stdout",
     "output_type": "stream",
     "text": [
      "              precision    recall  f1-score   support\n",
      "\n",
      "         0.0       0.88      0.91      0.90       300\n",
      "         1.0       0.96      0.95      0.95       700\n",
      "\n",
      "    accuracy                           0.94      1000\n",
      "   macro avg       0.92      0.93      0.93      1000\n",
      "weighted avg       0.94      0.94      0.94      1000\n",
      "\n"
     ]
    }
   ],
   "source": [
    "y_pred, y_true = evaluate_model(model, test_dataloader)\n",
    "\n",
    "print(\n",
    "    classification_report(\n",
    "        y_true,\n",
    "        y_pred,\n",
    "    )\n",
    ")"
   ]
  },
  {
   "cell_type": "code",
   "execution_count": null,
   "metadata": {},
   "outputs": [],
   "source": []
  }
 ],
 "metadata": {
  "kernelspec": {
   "display_name": "itmo-dl-EUHjMda--py3.12",
   "language": "python",
   "name": "python3"
  },
  "language_info": {
   "codemirror_mode": {
    "name": "ipython",
    "version": 3
   },
   "file_extension": ".py",
   "mimetype": "text/x-python",
   "name": "python",
   "nbconvert_exporter": "python",
   "pygments_lexer": "ipython3",
   "version": "3.12.3"
  }
 },
 "nbformat": 4,
 "nbformat_minor": 2
}
