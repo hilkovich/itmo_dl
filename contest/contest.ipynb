{
 "cells": [
  {
   "cell_type": "markdown",
   "metadata": {},
   "source": [
    "# Код для повторения на Kaggle"
   ]
  },
  {
   "cell_type": "code",
   "execution_count": 1,
   "metadata": {
    "execution": {
     "iopub.execute_input": "2025-01-22T18:10:36.789314Z",
     "iopub.status.busy": "2025-01-22T18:10:36.789018Z",
     "iopub.status.idle": "2025-01-22T18:10:41.910299Z",
     "shell.execute_reply": "2025-01-22T18:10:41.909615Z",
     "shell.execute_reply.started": "2025-01-22T18:10:36.789290Z"
    },
    "trusted": true
   },
   "outputs": [],
   "source": [
    "import torch\n",
    "import random\n",
    "import numpy as np\n",
    "import pandas as pd\n",
    "import torch.nn as nn\n",
    "import torch.optim as optim\n",
    "\n",
    "from tqdm.notebook import tqdm\n",
    "from sklearn.metrics import roc_auc_score\n",
    "from torch.utils.data import DataLoader, Dataset\n",
    "from sklearn.metrics import classification_report\n",
    "from sklearn.model_selection import train_test_split"
   ]
  },
  {
   "cell_type": "code",
   "execution_count": 2,
   "metadata": {
    "execution": {
     "iopub.execute_input": "2025-01-22T18:10:43.466333Z",
     "iopub.status.busy": "2025-01-22T18:10:43.465907Z",
     "iopub.status.idle": "2025-01-22T18:10:43.475480Z",
     "shell.execute_reply": "2025-01-22T18:10:43.474739Z",
     "shell.execute_reply.started": "2025-01-22T18:10:43.466308Z"
    },
    "trusted": true
   },
   "outputs": [
    {
     "name": "stdout",
     "output_type": "stream",
     "text": [
      "Random seed set as 42\n"
     ]
    }
   ],
   "source": [
    "def set_seed(seed: int = 42) -> None:\n",
    "    np.random.seed(seed)\n",
    "    random.seed(seed)\n",
    "    torch.manual_seed(seed)\n",
    "    torch.cuda.manual_seed(seed)\n",
    "    torch.backends.cudnn.deterministic = True\n",
    "    torch.backends.cudnn.benchmark = False\n",
    "    print(f\"Random seed set as {seed}\")\n",
    "\n",
    "\n",
    "set_seed(42)"
   ]
  },
  {
   "cell_type": "markdown",
   "metadata": {},
   "source": [
    "# Загрузка датасета"
   ]
  },
  {
   "cell_type": "code",
   "execution_count": 3,
   "metadata": {
    "execution": {
     "iopub.execute_input": "2025-01-22T18:10:46.739908Z",
     "iopub.status.busy": "2025-01-22T18:10:46.739562Z",
     "iopub.status.idle": "2025-01-22T18:10:46.838983Z",
     "shell.execute_reply": "2025-01-22T18:10:46.838237Z",
     "shell.execute_reply.started": "2025-01-22T18:10:46.739877Z"
    },
    "trusted": true
   },
   "outputs": [
    {
     "data": {
      "text/html": [
       "<div>\n",
       "<style scoped>\n",
       "    .dataframe tbody tr th:only-of-type {\n",
       "        vertical-align: middle;\n",
       "    }\n",
       "\n",
       "    .dataframe tbody tr th {\n",
       "        vertical-align: top;\n",
       "    }\n",
       "\n",
       "    .dataframe thead th {\n",
       "        text-align: right;\n",
       "    }\n",
       "</style>\n",
       "<table border=\"1\" class=\"dataframe\">\n",
       "  <thead>\n",
       "    <tr style=\"text-align: right;\">\n",
       "      <th></th>\n",
       "      <th>id</th>\n",
       "      <th>age</th>\n",
       "      <th>height(cm)</th>\n",
       "      <th>weight(kg)</th>\n",
       "      <th>waist(cm)</th>\n",
       "      <th>eyesight(left)</th>\n",
       "      <th>eyesight(right)</th>\n",
       "      <th>hearing(left)</th>\n",
       "      <th>hearing(right)</th>\n",
       "      <th>systolic</th>\n",
       "      <th>...</th>\n",
       "      <th>HDL</th>\n",
       "      <th>LDL</th>\n",
       "      <th>hemoglobin</th>\n",
       "      <th>Urine protein</th>\n",
       "      <th>serum creatinine</th>\n",
       "      <th>AST</th>\n",
       "      <th>ALT</th>\n",
       "      <th>Gtp</th>\n",
       "      <th>dental caries</th>\n",
       "      <th>smoking</th>\n",
       "    </tr>\n",
       "  </thead>\n",
       "  <tbody>\n",
       "    <tr>\n",
       "      <th>0</th>\n",
       "      <td>0</td>\n",
       "      <td>35.0</td>\n",
       "      <td>175.0</td>\n",
       "      <td>75.0</td>\n",
       "      <td>86.5</td>\n",
       "      <td>1.2</td>\n",
       "      <td>1.2</td>\n",
       "      <td>1.0</td>\n",
       "      <td>1.0</td>\n",
       "      <td>127.0</td>\n",
       "      <td>...</td>\n",
       "      <td>58.0</td>\n",
       "      <td>108.0</td>\n",
       "      <td>15.6</td>\n",
       "      <td>1.0</td>\n",
       "      <td>0.9</td>\n",
       "      <td>17.0</td>\n",
       "      <td>14.0</td>\n",
       "      <td>21.0</td>\n",
       "      <td>0.0</td>\n",
       "      <td>0.0</td>\n",
       "    </tr>\n",
       "    <tr>\n",
       "      <th>1</th>\n",
       "      <td>1</td>\n",
       "      <td>45.0</td>\n",
       "      <td>155.0</td>\n",
       "      <td>60.0</td>\n",
       "      <td>82.0</td>\n",
       "      <td>1.2</td>\n",
       "      <td>1.0</td>\n",
       "      <td>1.0</td>\n",
       "      <td>1.0</td>\n",
       "      <td>129.0</td>\n",
       "      <td>...</td>\n",
       "      <td>50.0</td>\n",
       "      <td>110.0</td>\n",
       "      <td>14.0</td>\n",
       "      <td>1.0</td>\n",
       "      <td>0.7</td>\n",
       "      <td>22.0</td>\n",
       "      <td>18.0</td>\n",
       "      <td>14.0</td>\n",
       "      <td>0.0</td>\n",
       "      <td>0.0</td>\n",
       "    </tr>\n",
       "    <tr>\n",
       "      <th>2</th>\n",
       "      <td>2</td>\n",
       "      <td>35.0</td>\n",
       "      <td>175.0</td>\n",
       "      <td>60.0</td>\n",
       "      <td>74.0</td>\n",
       "      <td>1.2</td>\n",
       "      <td>1.2</td>\n",
       "      <td>1.0</td>\n",
       "      <td>1.0</td>\n",
       "      <td>100.0</td>\n",
       "      <td>...</td>\n",
       "      <td>58.0</td>\n",
       "      <td>116.0</td>\n",
       "      <td>14.8</td>\n",
       "      <td>1.0</td>\n",
       "      <td>0.9</td>\n",
       "      <td>20.0</td>\n",
       "      <td>15.0</td>\n",
       "      <td>16.0</td>\n",
       "      <td>0.0</td>\n",
       "      <td>1.0</td>\n",
       "    </tr>\n",
       "    <tr>\n",
       "      <th>3</th>\n",
       "      <td>3</td>\n",
       "      <td>60.0</td>\n",
       "      <td>160.0</td>\n",
       "      <td>55.0</td>\n",
       "      <td>74.0</td>\n",
       "      <td>1.2</td>\n",
       "      <td>1.5</td>\n",
       "      <td>1.0</td>\n",
       "      <td>1.0</td>\n",
       "      <td>139.0</td>\n",
       "      <td>...</td>\n",
       "      <td>73.0</td>\n",
       "      <td>95.0</td>\n",
       "      <td>15.1</td>\n",
       "      <td>1.0</td>\n",
       "      <td>0.7</td>\n",
       "      <td>47.0</td>\n",
       "      <td>31.0</td>\n",
       "      <td>15.0</td>\n",
       "      <td>0.0</td>\n",
       "      <td>0.0</td>\n",
       "    </tr>\n",
       "    <tr>\n",
       "      <th>4</th>\n",
       "      <td>4</td>\n",
       "      <td>40.0</td>\n",
       "      <td>160.0</td>\n",
       "      <td>55.0</td>\n",
       "      <td>71.0</td>\n",
       "      <td>0.9</td>\n",
       "      <td>1.2</td>\n",
       "      <td>1.0</td>\n",
       "      <td>1.0</td>\n",
       "      <td>100.0</td>\n",
       "      <td>...</td>\n",
       "      <td>66.0</td>\n",
       "      <td>103.0</td>\n",
       "      <td>13.1</td>\n",
       "      <td>1.0</td>\n",
       "      <td>0.6</td>\n",
       "      <td>24.0</td>\n",
       "      <td>21.0</td>\n",
       "      <td>13.0</td>\n",
       "      <td>0.0</td>\n",
       "      <td>0.0</td>\n",
       "    </tr>\n",
       "  </tbody>\n",
       "</table>\n",
       "<p>5 rows × 24 columns</p>\n",
       "</div>"
      ],
      "text/plain": [
       "   id   age  height(cm)  weight(kg)  waist(cm)  eyesight(left)  \\\n",
       "0   0  35.0       175.0        75.0       86.5             1.2   \n",
       "1   1  45.0       155.0        60.0       82.0             1.2   \n",
       "2   2  35.0       175.0        60.0       74.0             1.2   \n",
       "3   3  60.0       160.0        55.0       74.0             1.2   \n",
       "4   4  40.0       160.0        55.0       71.0             0.9   \n",
       "\n",
       "   eyesight(right)  hearing(left)  hearing(right)  systolic  ...   HDL    LDL  \\\n",
       "0              1.2            1.0             1.0     127.0  ...  58.0  108.0   \n",
       "1              1.0            1.0             1.0     129.0  ...  50.0  110.0   \n",
       "2              1.2            1.0             1.0     100.0  ...  58.0  116.0   \n",
       "3              1.5            1.0             1.0     139.0  ...  73.0   95.0   \n",
       "4              1.2            1.0             1.0     100.0  ...  66.0  103.0   \n",
       "\n",
       "   hemoglobin  Urine protein  serum creatinine   AST   ALT   Gtp  \\\n",
       "0        15.6            1.0               0.9  17.0  14.0  21.0   \n",
       "1        14.0            1.0               0.7  22.0  18.0  14.0   \n",
       "2        14.8            1.0               0.9  20.0  15.0  16.0   \n",
       "3        15.1            1.0               0.7  47.0  31.0  15.0   \n",
       "4        13.1            1.0               0.6  24.0  21.0  13.0   \n",
       "\n",
       "   dental caries  smoking  \n",
       "0            0.0      0.0  \n",
       "1            0.0      0.0  \n",
       "2            0.0      1.0  \n",
       "3            0.0      0.0  \n",
       "4            0.0      0.0  \n",
       "\n",
       "[5 rows x 24 columns]"
      ]
     },
     "execution_count": 3,
     "metadata": {},
     "output_type": "execute_result"
    }
   ],
   "source": [
    "df = pd.read_csv(\"/kaggle/input/df-train/train.csv\")\n",
    "\n",
    "df.head()"
   ]
  },
  {
   "cell_type": "code",
   "execution_count": 4,
   "metadata": {
    "execution": {
     "iopub.execute_input": "2025-01-22T18:10:47.679986Z",
     "iopub.status.busy": "2025-01-22T18:10:47.679706Z",
     "iopub.status.idle": "2025-01-22T18:10:47.684528Z",
     "shell.execute_reply": "2025-01-22T18:10:47.683832Z",
     "shell.execute_reply.started": "2025-01-22T18:10:47.679963Z"
    },
    "trusted": true
   },
   "outputs": [
    {
     "data": {
      "text/plain": [
       "(15000, 24)"
      ]
     },
     "execution_count": 4,
     "metadata": {},
     "output_type": "execute_result"
    }
   ],
   "source": [
    "df.shape"
   ]
  },
  {
   "cell_type": "markdown",
   "metadata": {},
   "source": [
    "# Подготовка данных"
   ]
  },
  {
   "cell_type": "code",
   "execution_count": 5,
   "metadata": {
    "execution": {
     "iopub.execute_input": "2025-01-22T18:10:49.465974Z",
     "iopub.status.busy": "2025-01-22T18:10:49.465647Z",
     "iopub.status.idle": "2025-01-22T18:10:49.495468Z",
     "shell.execute_reply": "2025-01-22T18:10:49.494632Z",
     "shell.execute_reply.started": "2025-01-22T18:10:49.465949Z"
    },
    "trusted": true
   },
   "outputs": [
    {
     "name": "stdout",
     "output_type": "stream",
     "text": [
      "Всего (100.0%): 15000\n",
      "Тренировачный (60.0%): 9000\n",
      "Валидационный (20.0%): 3000\n",
      "Тестовый (20.0%): 3000\n"
     ]
    }
   ],
   "source": [
    "# Размеры выборок\n",
    "train_size = 0.6\n",
    "val_size = 0.2\n",
    "test_size = 0.2\n",
    "\n",
    "# Разделение признаков и целевой переменной\n",
    "X = df.drop(columns=[\"smoking\"])\n",
    "y = df[\"smoking\"]\n",
    "\n",
    "# Разбивка\n",
    "X_train, X_temp, y_train, y_temp = train_test_split(\n",
    "    X, y, train_size=train_size, random_state=12, stratify=y\n",
    ")\n",
    "X_val, X_test, y_val, y_test = train_test_split(\n",
    "    X_temp,\n",
    "    y_temp,\n",
    "    test_size=(test_size / (test_size + val_size)),\n",
    "    random_state=12,\n",
    "    stratify=y_temp,\n",
    ")\n",
    "\n",
    "# Вывод результата\n",
    "print(f\"Всего ({1.0*100}%): {df.shape[0]}\")\n",
    "print(f\"Тренировачный ({train_size*100}%): {X_train.shape[0]}\")\n",
    "print(f\"Валидационный ({val_size*100}%): {X_val.shape[0]}\")\n",
    "print(f\"Тестовый ({test_size*100}%): {X_test.shape[0]}\")"
   ]
  },
  {
   "cell_type": "code",
   "execution_count": 6,
   "metadata": {
    "execution": {
     "iopub.execute_input": "2025-01-22T18:10:54.627493Z",
     "iopub.status.busy": "2025-01-22T18:10:54.627212Z",
     "iopub.status.idle": "2025-01-22T18:10:54.632194Z",
     "shell.execute_reply": "2025-01-22T18:10:54.631198Z",
     "shell.execute_reply.started": "2025-01-22T18:10:54.627470Z"
    },
    "trusted": true
   },
   "outputs": [],
   "source": [
    "class CustomDataset(Dataset):\n",
    "    def __init__(self, X, y):\n",
    "        self.X = torch.Tensor(X.values)\n",
    "        self.y = torch.from_numpy(y.values).reshape(-1, 1).float()\n",
    "\n",
    "    def __len__(self):\n",
    "        return self.X.shape[0]\n",
    "\n",
    "    def __getitem__(self, index):\n",
    "        return (self.X[index], self.y[index])"
   ]
  },
  {
   "cell_type": "code",
   "execution_count": 7,
   "metadata": {
    "execution": {
     "iopub.execute_input": "2025-01-22T18:10:56.316981Z",
     "iopub.status.busy": "2025-01-22T18:10:56.316609Z",
     "iopub.status.idle": "2025-01-22T18:10:56.352828Z",
     "shell.execute_reply": "2025-01-22T18:10:56.351976Z",
     "shell.execute_reply.started": "2025-01-22T18:10:56.316954Z"
    },
    "trusted": true
   },
   "outputs": [],
   "source": [
    "train_dataset = CustomDataset(X_train, y_train)\n",
    "val_dataset = CustomDataset(X_val, y_val)\n",
    "test_dataset = CustomDataset(X_test, y_test)"
   ]
  },
  {
   "cell_type": "code",
   "execution_count": 8,
   "metadata": {
    "execution": {
     "iopub.execute_input": "2025-01-22T18:10:57.693579Z",
     "iopub.status.busy": "2025-01-22T18:10:57.693271Z",
     "iopub.status.idle": "2025-01-22T18:10:57.698044Z",
     "shell.execute_reply": "2025-01-22T18:10:57.697216Z",
     "shell.execute_reply.started": "2025-01-22T18:10:57.693551Z"
    },
    "trusted": true
   },
   "outputs": [],
   "source": [
    "batch_size = 16 # Лучшая сходимость по сравнение с 32 и 64\n",
    "\n",
    "train_dataloader = DataLoader(train_dataset, batch_size=batch_size, shuffle=True)\n",
    "val_dataloader = DataLoader(val_dataset, batch_size=batch_size, shuffle=False)\n",
    "test_dataloader = DataLoader(test_dataset, batch_size=batch_size, shuffle=False)"
   ]
  },
  {
   "cell_type": "markdown",
   "metadata": {},
   "source": [
    "# Нейросетевая модель"
   ]
  },
  {
   "cell_type": "code",
   "execution_count": 9,
   "metadata": {
    "execution": {
     "iopub.execute_input": "2025-01-22T18:10:59.392896Z",
     "iopub.status.busy": "2025-01-22T18:10:59.392550Z",
     "iopub.status.idle": "2025-01-22T18:10:59.498994Z",
     "shell.execute_reply": "2025-01-22T18:10:59.498073Z",
     "shell.execute_reply.started": "2025-01-22T18:10:59.392867Z"
    },
    "trusted": true
   },
   "outputs": [],
   "source": [
    "# Пробовал разные комбинации по количество слоев и признаков, не удается выбить больше\n",
    "class CustomModel(nn.Module):\n",
    "    def __init__(self, inputs_size, out_size):\n",
    "        super(CustomModel, self).__init__()\n",
    "        \n",
    "        self.linear_1 = nn.Linear(inputs_size, 500)\n",
    "        self.linear_2 = nn.Linear(500, 1000)\n",
    "        self.linear_3 = nn.Linear(1000, 500)\n",
    "        self.linear_4 = nn.Linear(500, out_size)\n",
    "        \n",
    "        self.bn_1 = nn.BatchNorm1d(500)\n",
    "        self.bn_2 = nn.BatchNorm1d(1000)\n",
    "        self.bn_3 = nn.BatchNorm1d(500)\n",
    "        \n",
    "        self.dropout = nn.Dropout(p=0.3) # выше и ниже дает хуже сходимость\n",
    "        self.relu = nn.ReLU()\n",
    "        self.sigmoid = nn.Sigmoid()\n",
    "        \n",
    "    def forward(self, x):\n",
    "        x = self.linear_1(x)\n",
    "        x = self.bn_1(x)\n",
    "        x = self.relu(x)\n",
    "        \n",
    "        x = self.dropout(x)\n",
    "        x = self.linear_2(x)\n",
    "        x = self.bn_2(x)\n",
    "        x = self.relu(x)\n",
    "        \n",
    "        x = self.dropout(x)\n",
    "        x = self.linear_3(x)\n",
    "        x = self.bn_3(x)\n",
    "        x = self.relu(x)\n",
    "        \n",
    "        x = self.dropout(x)\n",
    "        x = self.linear_4(x)\n",
    "        x = self.sigmoid(x)\n",
    "        \n",
    "        return x"
   ]
  },
  {
   "cell_type": "code",
   "execution_count": 10,
   "metadata": {
    "execution": {
     "iopub.execute_input": "2025-01-22T18:11:01.595086Z",
     "iopub.status.busy": "2025-01-22T18:11:01.594742Z",
     "iopub.status.idle": "2025-01-22T18:11:01.683180Z",
     "shell.execute_reply": "2025-01-22T18:11:01.681745Z",
     "shell.execute_reply.started": "2025-01-22T18:11:01.595056Z"
    },
    "trusted": true
   },
   "outputs": [],
   "source": [
    "device = torch.device(\"cuda:0\" if torch.cuda.is_available() else \"cpu\")"
   ]
  },
  {
   "cell_type": "code",
   "execution_count": 11,
   "metadata": {
    "execution": {
     "iopub.execute_input": "2025-01-22T18:11:01.896492Z",
     "iopub.status.busy": "2025-01-22T18:11:01.896222Z",
     "iopub.status.idle": "2025-01-22T18:11:01.928117Z",
     "shell.execute_reply": "2025-01-22T18:11:01.927405Z",
     "shell.execute_reply.started": "2025-01-22T18:11:01.896469Z"
    },
    "trusted": true
   },
   "outputs": [],
   "source": [
    "model = CustomModel(inputs_size=23, out_size=1)"
   ]
  },
  {
   "cell_type": "markdown",
   "metadata": {},
   "source": [
    "# Код обучения и оценки модели"
   ]
  },
  {
   "cell_type": "code",
   "execution_count": 12,
   "metadata": {
    "execution": {
     "iopub.execute_input": "2025-01-22T18:11:04.114427Z",
     "iopub.status.busy": "2025-01-22T18:11:04.114153Z",
     "iopub.status.idle": "2025-01-22T18:11:04.121843Z",
     "shell.execute_reply": "2025-01-22T18:11:04.120946Z",
     "shell.execute_reply.started": "2025-01-22T18:11:04.114406Z"
    },
    "trusted": true
   },
   "outputs": [],
   "source": [
    "def train_loop(model, train_dataloader, val_dataloader, epochs=20, lr=0.001): # данные lr дает лучше сходимость\n",
    "    model.to(device)\n",
    "    criterion = nn.BCELoss()\n",
    "    optimizer = optim.Adam(model.parameters(), lr=lr) # SGD не дает пробить 0,75\n",
    "    for epoch in range(epochs):\n",
    "        model.train()\n",
    "        train_loss = 0.0\n",
    "\n",
    "        # Обучающая часть цикла\n",
    "        for batch in (\n",
    "            tqdm(train_dataloader, desc=f\"Epoch {epoch+1}/{epochs} [Training]\")\n",
    "            if ((epoch + 1) % 100 == 0 or epoch == 0)\n",
    "            else train_dataloader\n",
    "        ):\n",
    "            X_batch, y_batch = batch\n",
    "            X_batch, y_batch = X_batch.to(device), y_batch.to(device)\n",
    "            optimizer.zero_grad()\n",
    "            y_pred = model(X_batch)\n",
    "            loss = criterion(y_pred, y_batch)\n",
    "            loss.backward()\n",
    "            optimizer.step()\n",
    "            train_loss += loss.item() * X_batch.size(0)\n",
    "        train_loss /= len(train_dataloader.dataset)\n",
    "\n",
    "        # Валидационная часть цикла\n",
    "        model.eval()\n",
    "        val_loss = 0.0\n",
    "        with torch.no_grad():\n",
    "            for batch in (\n",
    "                tqdm(val_dataloader, desc=f\"Epoch {epoch+1}/{epochs} [Training]\")\n",
    "                if ((epoch + 1) % 100 == 0 or epoch == 0)\n",
    "                else val_dataloader\n",
    "            ):\n",
    "                X_batch, y_batch = batch\n",
    "                X_batch, y_batch = X_batch.to(device), y_batch.to(device)\n",
    "                y_pred = model(X_batch)\n",
    "                loss = criterion(y_pred, y_batch)\n",
    "                val_loss += loss.item() * X_batch.size(0)\n",
    "        val_loss /= len(val_dataloader.dataset)\n",
    "        if (epoch + 1) % 5 == 0 or epoch == 0:\n",
    "            print(\n",
    "                f\"Epoch [{epoch+1}/{epochs}] - Train Loss: {train_loss:.4f} - Val Loss: {val_loss:.4f}\"\n",
    "            )\n",
    "    print(\"Обучение завершено!\")"
   ]
  },
  {
   "cell_type": "code",
   "execution_count": 13,
   "metadata": {
    "execution": {
     "iopub.execute_input": "2025-01-22T18:11:06.784374Z",
     "iopub.status.busy": "2025-01-22T18:11:06.784096Z",
     "iopub.status.idle": "2025-01-22T18:11:06.789292Z",
     "shell.execute_reply": "2025-01-22T18:11:06.788337Z",
     "shell.execute_reply.started": "2025-01-22T18:11:06.784353Z"
    },
    "trusted": true
   },
   "outputs": [],
   "source": [
    "def evaluate_model(model, test_dataloader):\n",
    "    model.eval()\n",
    "    all_predictions = []\n",
    "    all_labels = []\n",
    "\n",
    "    with torch.no_grad():\n",
    "        for inputs, labels in test_dataloader:\n",
    "            inputs = inputs.to(device)\n",
    "            outputs = model(inputs)\n",
    "            predicted = (outputs > 0.5).float().cpu().numpy()\n",
    "            all_predictions.extend(predicted)\n",
    "            all_labels.extend(labels.numpy())\n",
    "\n",
    "    return np.array(all_predictions), np.array(all_labels)"
   ]
  },
  {
   "cell_type": "markdown",
   "metadata": {},
   "source": [
    "# Обучение модели и проверка качества"
   ]
  },
  {
   "cell_type": "code",
   "execution_count": 14,
   "metadata": {
    "execution": {
     "iopub.execute_input": "2025-01-22T18:11:14.526736Z",
     "iopub.status.busy": "2025-01-22T18:11:14.526409Z",
     "iopub.status.idle": "2025-01-22T18:16:52.044693Z",
     "shell.execute_reply": "2025-01-22T18:16:52.043857Z",
     "shell.execute_reply.started": "2025-01-22T18:11:14.526702Z"
    },
    "trusted": true
   },
   "outputs": [
    {
     "data": {
      "application/vnd.jupyter.widget-view+json": {
       "model_id": "2fa1b511bb6e40099b4dbf9df9eac22e",
       "version_major": 2,
       "version_minor": 0
      },
      "text/plain": [
       "Epoch 1/200 [Training]:   0%|          | 0/563 [00:00<?, ?it/s]"
      ]
     },
     "metadata": {},
     "output_type": "display_data"
    },
    {
     "data": {
      "application/vnd.jupyter.widget-view+json": {
       "model_id": "f3a32f3d42954186977f9d1f047e390b",
       "version_major": 2,
       "version_minor": 0
      },
      "text/plain": [
       "Epoch 1/200 [Training]:   0%|          | 0/188 [00:00<?, ?it/s]"
      ]
     },
     "metadata": {},
     "output_type": "display_data"
    },
    {
     "name": "stdout",
     "output_type": "stream",
     "text": [
      "Epoch [1/200] - Train Loss: 0.5558 - Val Loss: 0.4901\n",
      "Epoch [5/200] - Train Loss: 0.4870 - Val Loss: 0.4459\n",
      "Epoch [10/200] - Train Loss: 0.4809 - Val Loss: 0.4685\n",
      "Epoch [15/200] - Train Loss: 0.4685 - Val Loss: 0.4433\n",
      "Epoch [20/200] - Train Loss: 0.4518 - Val Loss: 0.4263\n",
      "Epoch [25/200] - Train Loss: 0.4467 - Val Loss: 0.5419\n",
      "Epoch [30/200] - Train Loss: 0.4443 - Val Loss: 0.4368\n",
      "Epoch [35/200] - Train Loss: 0.4415 - Val Loss: 0.4228\n",
      "Epoch [40/200] - Train Loss: 0.4365 - Val Loss: 0.4127\n",
      "Epoch [45/200] - Train Loss: 0.4376 - Val Loss: 0.4139\n",
      "Epoch [50/200] - Train Loss: 0.4352 - Val Loss: 0.4332\n",
      "Epoch [55/200] - Train Loss: 0.4304 - Val Loss: 0.4345\n",
      "Epoch [60/200] - Train Loss: 0.4361 - Val Loss: 0.4135\n",
      "Epoch [65/200] - Train Loss: 0.4277 - Val Loss: 0.4277\n",
      "Epoch [70/200] - Train Loss: 0.4297 - Val Loss: 0.4153\n",
      "Epoch [75/200] - Train Loss: 0.4281 - Val Loss: 0.4208\n",
      "Epoch [80/200] - Train Loss: 0.4311 - Val Loss: 0.4260\n",
      "Epoch [85/200] - Train Loss: 0.4280 - Val Loss: 0.4145\n",
      "Epoch [90/200] - Train Loss: 0.4255 - Val Loss: 0.4145\n",
      "Epoch [95/200] - Train Loss: 0.4220 - Val Loss: 0.4111\n"
     ]
    },
    {
     "data": {
      "application/vnd.jupyter.widget-view+json": {
       "model_id": "431fcafe68144e32b1d68d09f0828799",
       "version_major": 2,
       "version_minor": 0
      },
      "text/plain": [
       "Epoch 100/200 [Training]:   0%|          | 0/563 [00:00<?, ?it/s]"
      ]
     },
     "metadata": {},
     "output_type": "display_data"
    },
    {
     "data": {
      "application/vnd.jupyter.widget-view+json": {
       "model_id": "1d6b5e41fdbb4e789ab774c473d4fcd4",
       "version_major": 2,
       "version_minor": 0
      },
      "text/plain": [
       "Epoch 100/200 [Training]:   0%|          | 0/188 [00:00<?, ?it/s]"
      ]
     },
     "metadata": {},
     "output_type": "display_data"
    },
    {
     "name": "stdout",
     "output_type": "stream",
     "text": [
      "Epoch [100/200] - Train Loss: 0.4236 - Val Loss: 0.4179\n",
      "Epoch [105/200] - Train Loss: 0.4233 - Val Loss: 0.4297\n",
      "Epoch [110/200] - Train Loss: 0.4224 - Val Loss: 0.4144\n",
      "Epoch [115/200] - Train Loss: 0.4244 - Val Loss: 0.4139\n",
      "Epoch [120/200] - Train Loss: 0.4207 - Val Loss: 0.4148\n",
      "Epoch [125/200] - Train Loss: 0.4213 - Val Loss: 0.4159\n",
      "Epoch [130/200] - Train Loss: 0.4217 - Val Loss: 0.4204\n",
      "Epoch [135/200] - Train Loss: 0.4203 - Val Loss: 0.4177\n",
      "Epoch [140/200] - Train Loss: 0.4191 - Val Loss: 0.4159\n",
      "Epoch [145/200] - Train Loss: 0.4186 - Val Loss: 0.4146\n",
      "Epoch [150/200] - Train Loss: 0.4195 - Val Loss: 0.4139\n",
      "Epoch [155/200] - Train Loss: 0.4191 - Val Loss: 0.4172\n",
      "Epoch [160/200] - Train Loss: 0.4143 - Val Loss: 0.4127\n",
      "Epoch [165/200] - Train Loss: 0.4192 - Val Loss: 0.4109\n",
      "Epoch [170/200] - Train Loss: 0.4173 - Val Loss: 0.4149\n",
      "Epoch [175/200] - Train Loss: 0.4125 - Val Loss: 0.4113\n",
      "Epoch [180/200] - Train Loss: 0.4185 - Val Loss: 0.4158\n",
      "Epoch [185/200] - Train Loss: 0.4127 - Val Loss: 0.4128\n",
      "Epoch [190/200] - Train Loss: 0.4134 - Val Loss: 0.4163\n",
      "Epoch [195/200] - Train Loss: 0.4151 - Val Loss: 0.4136\n"
     ]
    },
    {
     "data": {
      "application/vnd.jupyter.widget-view+json": {
       "model_id": "b078585f68344655a8bd7422df389106",
       "version_major": 2,
       "version_minor": 0
      },
      "text/plain": [
       "Epoch 200/200 [Training]:   0%|          | 0/563 [00:00<?, ?it/s]"
      ]
     },
     "metadata": {},
     "output_type": "display_data"
    },
    {
     "data": {
      "application/vnd.jupyter.widget-view+json": {
       "model_id": "320a7a6ecc2849c886bf4571230bf6a7",
       "version_major": 2,
       "version_minor": 0
      },
      "text/plain": [
       "Epoch 200/200 [Training]:   0%|          | 0/188 [00:00<?, ?it/s]"
      ]
     },
     "metadata": {},
     "output_type": "display_data"
    },
    {
     "name": "stdout",
     "output_type": "stream",
     "text": [
      "Epoch [200/200] - Train Loss: 0.4176 - Val Loss: 0.4228\n",
      "Обучение завершено!\n",
      "CPU times: user 5min 27s, sys: 4.43 s, total: 5min 32s\n",
      "Wall time: 5min 37s\n"
     ]
    }
   ],
   "source": [
    "%%time\n",
    "train_loop(model, train_dataloader, val_dataloader, 200)"
   ]
  },
  {
   "cell_type": "code",
   "execution_count": 15,
   "metadata": {
    "execution": {
     "iopub.execute_input": "2025-01-22T18:16:58.929185Z",
     "iopub.status.busy": "2025-01-22T18:16:58.928720Z",
     "iopub.status.idle": "2025-01-22T18:16:59.112232Z",
     "shell.execute_reply": "2025-01-22T18:16:59.111517Z",
     "shell.execute_reply.started": "2025-01-22T18:16:58.929158Z"
    },
    "trusted": true
   },
   "outputs": [
    {
     "name": "stdout",
     "output_type": "stream",
     "text": [
      "              precision    recall  f1-score   support\n",
      "\n",
      "         0.0       0.81      0.84      0.83      1889\n",
      "         1.0       0.71      0.68      0.69      1111\n",
      "\n",
      "    accuracy                           0.78      3000\n",
      "   macro avg       0.76      0.76      0.76      3000\n",
      "weighted avg       0.78      0.78      0.78      3000\n",
      "\n"
     ]
    }
   ],
   "source": [
    "y_pred, y_true = evaluate_model(model, test_dataloader)\n",
    "\n",
    "print(\n",
    "    classification_report(\n",
    "        y_true,\n",
    "        y_pred,\n",
    "    )\n",
    ")"
   ]
  },
  {
   "cell_type": "code",
   "execution_count": 16,
   "metadata": {
    "execution": {
     "iopub.execute_input": "2025-01-22T18:17:01.196717Z",
     "iopub.status.busy": "2025-01-22T18:17:01.196389Z",
     "iopub.status.idle": "2025-01-22T18:17:01.206463Z",
     "shell.execute_reply": "2025-01-22T18:17:01.205601Z",
     "shell.execute_reply.started": "2025-01-22T18:17:01.196656Z"
    },
    "trusted": true
   },
   "outputs": [
    {
     "data": {
      "text/plain": [
       "0.7569885628054599"
      ]
     },
     "execution_count": 16,
     "metadata": {},
     "output_type": "execute_result"
    }
   ],
   "source": [
    "auc_score = roc_auc_score(y_true, y_pred)\n",
    "\n",
    "auc_score"
   ]
  },
  {
   "cell_type": "markdown",
   "metadata": {},
   "source": [
    "# Подготовка ответа"
   ]
  },
  {
   "cell_type": "code",
   "execution_count": 17,
   "metadata": {
    "execution": {
     "iopub.execute_input": "2025-01-22T18:17:06.046373Z",
     "iopub.status.busy": "2025-01-22T18:17:06.046086Z",
     "iopub.status.idle": "2025-01-22T18:17:06.121242Z",
     "shell.execute_reply": "2025-01-22T18:17:06.120407Z",
     "shell.execute_reply.started": "2025-01-22T18:17:06.046350Z"
    },
    "trusted": true
   },
   "outputs": [
    {
     "data": {
      "text/html": [
       "<div>\n",
       "<style scoped>\n",
       "    .dataframe tbody tr th:only-of-type {\n",
       "        vertical-align: middle;\n",
       "    }\n",
       "\n",
       "    .dataframe tbody tr th {\n",
       "        vertical-align: top;\n",
       "    }\n",
       "\n",
       "    .dataframe thead th {\n",
       "        text-align: right;\n",
       "    }\n",
       "</style>\n",
       "<table border=\"1\" class=\"dataframe\">\n",
       "  <thead>\n",
       "    <tr style=\"text-align: right;\">\n",
       "      <th></th>\n",
       "      <th>id</th>\n",
       "      <th>age</th>\n",
       "      <th>height(cm)</th>\n",
       "      <th>weight(kg)</th>\n",
       "      <th>waist(cm)</th>\n",
       "      <th>eyesight(left)</th>\n",
       "      <th>eyesight(right)</th>\n",
       "      <th>hearing(left)</th>\n",
       "      <th>hearing(right)</th>\n",
       "      <th>systolic</th>\n",
       "      <th>...</th>\n",
       "      <th>triglyceride</th>\n",
       "      <th>HDL</th>\n",
       "      <th>LDL</th>\n",
       "      <th>hemoglobin</th>\n",
       "      <th>Urine protein</th>\n",
       "      <th>serum creatinine</th>\n",
       "      <th>AST</th>\n",
       "      <th>ALT</th>\n",
       "      <th>Gtp</th>\n",
       "      <th>dental caries</th>\n",
       "    </tr>\n",
       "  </thead>\n",
       "  <tbody>\n",
       "    <tr>\n",
       "      <th>0</th>\n",
       "      <td>15000</td>\n",
       "      <td>25.0</td>\n",
       "      <td>165.0</td>\n",
       "      <td>65.0</td>\n",
       "      <td>85.0</td>\n",
       "      <td>1.2</td>\n",
       "      <td>1.2</td>\n",
       "      <td>1.0</td>\n",
       "      <td>1.0</td>\n",
       "      <td>128.0</td>\n",
       "      <td>...</td>\n",
       "      <td>92.0</td>\n",
       "      <td>41.0</td>\n",
       "      <td>132.0</td>\n",
       "      <td>15.0</td>\n",
       "      <td>1.0</td>\n",
       "      <td>1.1</td>\n",
       "      <td>34.0</td>\n",
       "      <td>23.0</td>\n",
       "      <td>14.0</td>\n",
       "      <td>0.0</td>\n",
       "    </tr>\n",
       "    <tr>\n",
       "      <th>1</th>\n",
       "      <td>15001</td>\n",
       "      <td>45.0</td>\n",
       "      <td>165.0</td>\n",
       "      <td>60.0</td>\n",
       "      <td>74.0</td>\n",
       "      <td>1.5</td>\n",
       "      <td>1.0</td>\n",
       "      <td>1.0</td>\n",
       "      <td>1.0</td>\n",
       "      <td>104.0</td>\n",
       "      <td>...</td>\n",
       "      <td>124.0</td>\n",
       "      <td>54.0</td>\n",
       "      <td>129.0</td>\n",
       "      <td>11.3</td>\n",
       "      <td>1.0</td>\n",
       "      <td>0.7</td>\n",
       "      <td>20.0</td>\n",
       "      <td>17.0</td>\n",
       "      <td>11.0</td>\n",
       "      <td>0.0</td>\n",
       "    </tr>\n",
       "    <tr>\n",
       "      <th>2</th>\n",
       "      <td>15002</td>\n",
       "      <td>65.0</td>\n",
       "      <td>155.0</td>\n",
       "      <td>55.0</td>\n",
       "      <td>72.0</td>\n",
       "      <td>0.8</td>\n",
       "      <td>0.6</td>\n",
       "      <td>1.0</td>\n",
       "      <td>1.0</td>\n",
       "      <td>130.0</td>\n",
       "      <td>...</td>\n",
       "      <td>103.0</td>\n",
       "      <td>76.0</td>\n",
       "      <td>128.0</td>\n",
       "      <td>14.4</td>\n",
       "      <td>1.0</td>\n",
       "      <td>0.8</td>\n",
       "      <td>38.0</td>\n",
       "      <td>18.0</td>\n",
       "      <td>24.0</td>\n",
       "      <td>1.0</td>\n",
       "    </tr>\n",
       "    <tr>\n",
       "      <th>3</th>\n",
       "      <td>15003</td>\n",
       "      <td>30.0</td>\n",
       "      <td>170.0</td>\n",
       "      <td>85.0</td>\n",
       "      <td>88.0</td>\n",
       "      <td>0.7</td>\n",
       "      <td>0.9</td>\n",
       "      <td>1.0</td>\n",
       "      <td>1.0</td>\n",
       "      <td>119.0</td>\n",
       "      <td>...</td>\n",
       "      <td>212.0</td>\n",
       "      <td>44.0</td>\n",
       "      <td>117.0</td>\n",
       "      <td>14.8</td>\n",
       "      <td>1.0</td>\n",
       "      <td>1.1</td>\n",
       "      <td>26.0</td>\n",
       "      <td>38.0</td>\n",
       "      <td>19.0</td>\n",
       "      <td>0.0</td>\n",
       "    </tr>\n",
       "    <tr>\n",
       "      <th>4</th>\n",
       "      <td>15004</td>\n",
       "      <td>40.0</td>\n",
       "      <td>155.0</td>\n",
       "      <td>50.0</td>\n",
       "      <td>70.0</td>\n",
       "      <td>0.9</td>\n",
       "      <td>0.8</td>\n",
       "      <td>1.0</td>\n",
       "      <td>1.0</td>\n",
       "      <td>102.0</td>\n",
       "      <td>...</td>\n",
       "      <td>87.0</td>\n",
       "      <td>68.0</td>\n",
       "      <td>130.0</td>\n",
       "      <td>13.3</td>\n",
       "      <td>1.0</td>\n",
       "      <td>0.9</td>\n",
       "      <td>18.0</td>\n",
       "      <td>12.0</td>\n",
       "      <td>14.0</td>\n",
       "      <td>0.0</td>\n",
       "    </tr>\n",
       "  </tbody>\n",
       "</table>\n",
       "<p>5 rows × 23 columns</p>\n",
       "</div>"
      ],
      "text/plain": [
       "      id   age  height(cm)  weight(kg)  waist(cm)  eyesight(left)  \\\n",
       "0  15000  25.0       165.0        65.0       85.0             1.2   \n",
       "1  15001  45.0       165.0        60.0       74.0             1.5   \n",
       "2  15002  65.0       155.0        55.0       72.0             0.8   \n",
       "3  15003  30.0       170.0        85.0       88.0             0.7   \n",
       "4  15004  40.0       155.0        50.0       70.0             0.9   \n",
       "\n",
       "   eyesight(right)  hearing(left)  hearing(right)  systolic  ...  \\\n",
       "0              1.2            1.0             1.0     128.0  ...   \n",
       "1              1.0            1.0             1.0     104.0  ...   \n",
       "2              0.6            1.0             1.0     130.0  ...   \n",
       "3              0.9            1.0             1.0     119.0  ...   \n",
       "4              0.8            1.0             1.0     102.0  ...   \n",
       "\n",
       "   triglyceride   HDL    LDL  hemoglobin  Urine protein  serum creatinine  \\\n",
       "0          92.0  41.0  132.0        15.0            1.0               1.1   \n",
       "1         124.0  54.0  129.0        11.3            1.0               0.7   \n",
       "2         103.0  76.0  128.0        14.4            1.0               0.8   \n",
       "3         212.0  44.0  117.0        14.8            1.0               1.1   \n",
       "4          87.0  68.0  130.0        13.3            1.0               0.9   \n",
       "\n",
       "    AST   ALT   Gtp  dental caries  \n",
       "0  34.0  23.0  14.0            0.0  \n",
       "1  20.0  17.0  11.0            0.0  \n",
       "2  38.0  18.0  24.0            1.0  \n",
       "3  26.0  38.0  19.0            0.0  \n",
       "4  18.0  12.0  14.0            0.0  \n",
       "\n",
       "[5 rows x 23 columns]"
      ]
     },
     "execution_count": 17,
     "metadata": {},
     "output_type": "execute_result"
    }
   ],
   "source": [
    "df_test = pd.read_csv(\"/kaggle/input/df-test/test.csv\")\n",
    "\n",
    "df_test.head()"
   ]
  },
  {
   "cell_type": "code",
   "execution_count": 18,
   "metadata": {
    "execution": {
     "iopub.execute_input": "2025-01-22T18:17:08.165211Z",
     "iopub.status.busy": "2025-01-22T18:17:08.164918Z",
     "iopub.status.idle": "2025-01-22T18:17:08.169498Z",
     "shell.execute_reply": "2025-01-22T18:17:08.168637Z",
     "shell.execute_reply.started": "2025-01-22T18:17:08.165189Z"
    },
    "trusted": true
   },
   "outputs": [],
   "source": [
    "class CustomDatasetTest(Dataset):\n",
    "    def __init__(self, X):\n",
    "        self.X = torch.Tensor(X.values)\n",
    "\n",
    "    def __len__(self):\n",
    "        return self.X.shape[0]\n",
    "\n",
    "    def __getitem__(self, index):\n",
    "        return self.X[index]"
   ]
  },
  {
   "cell_type": "code",
   "execution_count": 19,
   "metadata": {
    "execution": {
     "iopub.execute_input": "2025-01-22T18:17:10.022406Z",
     "iopub.status.busy": "2025-01-22T18:17:10.022124Z",
     "iopub.status.idle": "2025-01-22T18:17:10.027637Z",
     "shell.execute_reply": "2025-01-22T18:17:10.026944Z",
     "shell.execute_reply.started": "2025-01-22T18:17:10.022384Z"
    },
    "trusted": true
   },
   "outputs": [],
   "source": [
    "answer_dataset = CustomDatasetTest(df_test)\n",
    "\n",
    "answer_dataloader = DataLoader(answer_dataset, batch_size=batch_size, shuffle=False)"
   ]
  },
  {
   "cell_type": "code",
   "execution_count": 20,
   "metadata": {
    "execution": {
     "iopub.execute_input": "2025-01-22T18:17:10.321505Z",
     "iopub.status.busy": "2025-01-22T18:17:10.321250Z",
     "iopub.status.idle": "2025-01-22T18:17:10.325777Z",
     "shell.execute_reply": "2025-01-22T18:17:10.325118Z",
     "shell.execute_reply.started": "2025-01-22T18:17:10.321481Z"
    },
    "trusted": true
   },
   "outputs": [],
   "source": [
    "def evaluate_model_answer(model, test_dataloader):\n",
    "    model.eval()\n",
    "    all_predictions = []\n",
    "    all_labels = []\n",
    "\n",
    "    with torch.no_grad():\n",
    "        for inputs in test_dataloader:\n",
    "            inputs = inputs.to(device)\n",
    "            outputs = model(inputs)\n",
    "            predicted = (outputs > 0.5).float().cpu().numpy()\n",
    "            all_predictions.extend(predicted)\n",
    "\n",
    "    return np.array(all_predictions), np.array(all_labels)"
   ]
  },
  {
   "cell_type": "code",
   "execution_count": 21,
   "metadata": {
    "execution": {
     "iopub.execute_input": "2025-01-22T18:17:16.442548Z",
     "iopub.status.busy": "2025-01-22T18:17:16.442263Z",
     "iopub.status.idle": "2025-01-22T18:17:16.914752Z",
     "shell.execute_reply": "2025-01-22T18:17:16.914077Z",
     "shell.execute_reply.started": "2025-01-22T18:17:16.442525Z"
    },
    "trusted": true
   },
   "outputs": [],
   "source": [
    "y_pred_answer, _ = evaluate_model_answer(model, answer_dataloader)"
   ]
  },
  {
   "cell_type": "code",
   "execution_count": 22,
   "metadata": {
    "execution": {
     "iopub.execute_input": "2025-01-22T18:17:16.915970Z",
     "iopub.status.busy": "2025-01-22T18:17:16.915711Z",
     "iopub.status.idle": "2025-01-22T18:17:16.920359Z",
     "shell.execute_reply": "2025-01-22T18:17:16.919516Z",
     "shell.execute_reply.started": "2025-01-22T18:17:16.915938Z"
    },
    "trusted": true
   },
   "outputs": [],
   "source": [
    "df_test[\"smoking\"] = y_pred_answer"
   ]
  },
  {
   "cell_type": "code",
   "execution_count": 23,
   "metadata": {
    "execution": {
     "iopub.execute_input": "2025-01-22T18:17:17.131204Z",
     "iopub.status.busy": "2025-01-22T18:17:17.130978Z",
     "iopub.status.idle": "2025-01-22T18:17:17.149904Z",
     "shell.execute_reply": "2025-01-22T18:17:17.149315Z",
     "shell.execute_reply.started": "2025-01-22T18:17:17.131184Z"
    },
    "trusted": true
   },
   "outputs": [],
   "source": [
    "df_test[[\"id\", \"smoking\"]].to_csv(\"answer.csv\", index=False)"
   ]
  },
  {
   "cell_type": "code",
   "execution_count": null,
   "metadata": {
    "trusted": true
   },
   "outputs": [],
   "source": []
  }
 ],
 "metadata": {
  "kaggle": {
   "accelerator": "nvidiaTeslaT4",
   "dataSources": [
    {
     "databundleVersionId": 10881754,
     "datasetId": 6527198,
     "sourceId": 10549333,
     "sourceType": "datasetVersion"
    },
    {
     "databundleVersionId": 10881032,
     "datasetId": 6526769,
     "sourceId": 10548688,
     "sourceType": "datasetVersion"
    }
   ],
   "dockerImageVersionId": 30840,
   "isGpuEnabled": true,
   "isInternetEnabled": true,
   "language": "python",
   "sourceType": "notebook"
  },
  "kernelspec": {
   "display_name": "itmo-dl-EUHjMda--py3.12",
   "language": "python",
   "name": "python3"
  },
  "language_info": {
   "codemirror_mode": {
    "name": "ipython",
    "version": 3
   },
   "file_extension": ".py",
   "mimetype": "text/x-python",
   "name": "python",
   "nbconvert_exporter": "python",
   "pygments_lexer": "ipython3",
   "version": "3.12.3"
  }
 },
 "nbformat": 4,
 "nbformat_minor": 4
}
