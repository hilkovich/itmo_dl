{
 "cells": [
  {
   "cell_type": "markdown",
   "id": "5e8b52ea",
   "metadata": {},
   "source": [
    "# Код для повторения на Kaggle"
   ]
  },
  {
   "cell_type": "code",
   "execution_count": 1,
   "id": "529b8a56",
   "metadata": {
    "execution": {
     "iopub.execute_input": "2025-01-21T16:19:56.667760Z",
     "iopub.status.busy": "2025-01-21T16:19:56.667418Z",
     "iopub.status.idle": "2025-01-21T16:20:07.452613Z",
     "shell.execute_reply": "2025-01-21T16:20:07.451958Z",
     "shell.execute_reply.started": "2025-01-21T16:19:56.667730Z"
    },
    "trusted": true
   },
   "outputs": [],
   "source": [
    "import torch\n",
    "import numpy as np\n",
    "import pandas as pd\n",
    "import torch.nn as nn\n",
    "import torch.optim as optim\n",
    "import matplotlib.pyplot as plt\n",
    "\n",
    "from transformers import AutoTokenizer\n",
    "from torch.utils.data import Dataset, DataLoader\n",
    "from sklearn.model_selection import train_test_split\n",
    "from torch.optim.lr_scheduler import ReduceLROnPlateau"
   ]
  },
  {
   "cell_type": "code",
   "execution_count": 2,
   "id": "e7ab6106",
   "metadata": {
    "execution": {
     "iopub.execute_input": "2025-01-21T16:20:08.445048Z",
     "iopub.status.busy": "2025-01-21T16:20:08.444590Z",
     "iopub.status.idle": "2025-01-21T16:20:08.456133Z",
     "shell.execute_reply": "2025-01-21T16:20:08.455297Z",
     "shell.execute_reply.started": "2025-01-21T16:20:08.445024Z"
    },
    "trusted": true
   },
   "outputs": [
    {
     "name": "stdout",
     "output_type": "stream",
     "text": [
      "Random seed set as 42\n"
     ]
    }
   ],
   "source": [
    "def set_seed(seed: int = 42) -> None:\n",
    "    np.random.seed(seed)\n",
    "    torch.manual_seed(seed)\n",
    "    torch.cuda.manual_seed(seed)\n",
    "    torch.backends.cudnn.deterministic = True\n",
    "    torch.backends.cudnn.benchmark = False\n",
    "    print(f\"Random seed set as {seed}\")\n",
    "\n",
    "\n",
    "set_seed(42)"
   ]
  },
  {
   "cell_type": "markdown",
   "id": "68d992cb",
   "metadata": {},
   "source": [
    "# Загрузка датасета"
   ]
  },
  {
   "cell_type": "code",
   "execution_count": 3,
   "id": "7b0e8a26-ea5b-44d8-bb18-18781ca8f048",
   "metadata": {
    "execution": {
     "iopub.execute_input": "2025-01-21T16:20:15.294523Z",
     "iopub.status.busy": "2025-01-21T16:20:15.294209Z",
     "iopub.status.idle": "2025-01-21T16:20:15.394691Z",
     "shell.execute_reply": "2025-01-21T16:20:15.393858Z",
     "shell.execute_reply.started": "2025-01-21T16:20:15.294496Z"
    },
    "trusted": true
   },
   "outputs": [],
   "source": [
    "# Для Kaggle\n",
    "import kagglehub\n",
    "\n",
    "path = kagglehub.dataset_download(\"andrewmvd/trip-advisor-hotel-reviews\")\n",
    "\n",
    "df = pd.read_csv(\"/kaggle/input/trip-advisor-hotel-reviews/tripadvisor_hotel_reviews.csv\")\n",
    "\n",
    "df.head()"
   ]
  },
  {
   "cell_type": "code",
   "execution_count": 4,
   "id": "7481f3f8",
   "metadata": {
    "execution": {
     "iopub.execute_input": "2025-01-21T16:20:17.972393Z",
     "iopub.status.busy": "2025-01-21T16:20:17.972075Z",
     "iopub.status.idle": "2025-01-21T16:20:18.381511Z",
     "shell.execute_reply": "2025-01-21T16:20:18.380757Z",
     "shell.execute_reply.started": "2025-01-21T16:20:17.972367Z"
    },
    "trusted": true
   },
   "outputs": [
    {
     "data": {
      "text/html": [
       "<div>\n",
       "<style scoped>\n",
       "    .dataframe tbody tr th:only-of-type {\n",
       "        vertical-align: middle;\n",
       "    }\n",
       "\n",
       "    .dataframe tbody tr th {\n",
       "        vertical-align: top;\n",
       "    }\n",
       "\n",
       "    .dataframe thead th {\n",
       "        text-align: right;\n",
       "    }\n",
       "</style>\n",
       "<table border=\"1\" class=\"dataframe\">\n",
       "  <thead>\n",
       "    <tr style=\"text-align: right;\">\n",
       "      <th></th>\n",
       "      <th>Review</th>\n",
       "      <th>Rating</th>\n",
       "    </tr>\n",
       "  </thead>\n",
       "  <tbody>\n",
       "    <tr>\n",
       "      <th>0</th>\n",
       "      <td>nice hotel expensive parking got good deal sta...</td>\n",
       "      <td>4</td>\n",
       "    </tr>\n",
       "    <tr>\n",
       "      <th>1</th>\n",
       "      <td>ok nothing special charge diamond member hilto...</td>\n",
       "      <td>2</td>\n",
       "    </tr>\n",
       "    <tr>\n",
       "      <th>2</th>\n",
       "      <td>nice rooms not 4* experience hotel monaco seat...</td>\n",
       "      <td>3</td>\n",
       "    </tr>\n",
       "    <tr>\n",
       "      <th>3</th>\n",
       "      <td>unique, great stay, wonderful time hotel monac...</td>\n",
       "      <td>5</td>\n",
       "    </tr>\n",
       "    <tr>\n",
       "      <th>4</th>\n",
       "      <td>great stay great stay, went seahawk game aweso...</td>\n",
       "      <td>5</td>\n",
       "    </tr>\n",
       "  </tbody>\n",
       "</table>\n",
       "</div>"
      ],
      "text/plain": [
       "                                              Review  Rating\n",
       "0  nice hotel expensive parking got good deal sta...       4\n",
       "1  ok nothing special charge diamond member hilto...       2\n",
       "2  nice rooms not 4* experience hotel monaco seat...       3\n",
       "3  unique, great stay, wonderful time hotel monac...       5\n",
       "4  great stay great stay, went seahawk game aweso...       5"
      ]
     },
     "execution_count": 4,
     "metadata": {},
     "output_type": "execute_result"
    }
   ],
   "source": [
    "# Локально\n",
    "df = pd.read_csv(\"tripadvisor_hotel_reviews.csv\")\n",
    "\n",
    "df.head()"
   ]
  },
  {
   "cell_type": "code",
   "execution_count": 5,
   "id": "5a7ac83e",
   "metadata": {
    "execution": {
     "iopub.execute_input": "2025-01-21T16:20:19.778096Z",
     "iopub.status.busy": "2025-01-21T16:20:19.777820Z",
     "iopub.status.idle": "2025-01-21T16:20:19.783355Z",
     "shell.execute_reply": "2025-01-21T16:20:19.782379Z",
     "shell.execute_reply.started": "2025-01-21T16:20:19.778076Z"
    },
    "trusted": true
   },
   "outputs": [
    {
     "data": {
      "text/plain": [
       "(20491, 2)"
      ]
     },
     "execution_count": 5,
     "metadata": {},
     "output_type": "execute_result"
    }
   ],
   "source": [
    "df.shape"
   ]
  },
  {
   "cell_type": "code",
   "execution_count": 6,
   "id": "e6aa6d3b",
   "metadata": {
    "execution": {
     "iopub.execute_input": "2025-01-21T16:20:21.441662Z",
     "iopub.status.busy": "2025-01-21T16:20:21.441307Z",
     "iopub.status.idle": "2025-01-21T16:20:21.460263Z",
     "shell.execute_reply": "2025-01-21T16:20:21.459316Z",
     "shell.execute_reply.started": "2025-01-21T16:20:21.441629Z"
    },
    "trusted": true
   },
   "outputs": [
    {
     "data": {
      "text/plain": [
       "Rating\n",
       "1    1421\n",
       "2    1793\n",
       "3    2184\n",
       "4    6039\n",
       "5    9054\n",
       "Name: count, dtype: int64"
      ]
     },
     "execution_count": 6,
     "metadata": {},
     "output_type": "execute_result"
    }
   ],
   "source": [
    "df[\"Rating\"].value_counts().sort_index()"
   ]
  },
  {
   "cell_type": "markdown",
   "id": "67bcb52a",
   "metadata": {},
   "source": [
    "# Подготовка данных"
   ]
  },
  {
   "cell_type": "code",
   "execution_count": 7,
   "id": "f33a7077",
   "metadata": {
    "execution": {
     "iopub.execute_input": "2025-01-21T16:20:22.819082Z",
     "iopub.status.busy": "2025-01-21T16:20:22.818798Z",
     "iopub.status.idle": "2025-01-21T16:20:22.824662Z",
     "shell.execute_reply": "2025-01-21T16:20:22.823761Z",
     "shell.execute_reply.started": "2025-01-21T16:20:22.819062Z"
    },
    "trusted": true
   },
   "outputs": [],
   "source": [
    "class HotelReviewsDataset(Dataset):\n",
    "    def __init__(self, reviews, ratings, tokenizer, max_length=128):\n",
    "        self.reviews = reviews\n",
    "        self.ratings = ratings\n",
    "        self.tokenizer = tokenizer\n",
    "        self.max_length = max_length\n",
    "\n",
    "    def __len__(self):\n",
    "        return len(self.reviews)\n",
    "\n",
    "    def __getitem__(self, idx):\n",
    "        review = str(self.reviews[idx])\n",
    "        rating = self.ratings[idx]\n",
    "\n",
    "        encoded = self.tokenizer.encode_plus(\n",
    "            review,\n",
    "            truncation=True,\n",
    "            max_length=self.max_length,\n",
    "            padding=\"max_length\",\n",
    "            return_tensors=\"pt\",\n",
    "            return_attention_mask=True,\n",
    "        )\n",
    "\n",
    "        return {\n",
    "            \"input_ids\": encoded[\"input_ids\"].squeeze(0),\n",
    "            \"attention_mask\": encoded[\"attention_mask\"].squeeze(0),\n",
    "            \"labels\": torch.tensor(rating - 1, dtype=torch.long),\n",
    "        }"
   ]
  },
  {
   "cell_type": "code",
   "execution_count": 8,
   "id": "69af6af0",
   "metadata": {
    "execution": {
     "iopub.execute_input": "2025-01-21T16:20:25.879631Z",
     "iopub.status.busy": "2025-01-21T16:20:25.879270Z",
     "iopub.status.idle": "2025-01-21T16:20:25.902113Z",
     "shell.execute_reply": "2025-01-21T16:20:25.901485Z",
     "shell.execute_reply.started": "2025-01-21T16:20:25.879602Z"
    },
    "trusted": true
   },
   "outputs": [],
   "source": [
    "X = df[\"Review\"].values\n",
    "y = df[\"Rating\"].values\n",
    "\n",
    "X_temp, X_test, y_temp, y_test = train_test_split(\n",
    "    X, y, test_size=0.2, stratify=y, random_state=12\n",
    ")\n",
    "X_train, X_val, y_train, y_val = train_test_split(\n",
    "    X_temp, y_temp, test_size=0.25, stratify=y_temp, random_state=12\n",
    ")"
   ]
  },
  {
   "cell_type": "code",
   "execution_count": 9,
   "id": "fc85b2bf",
   "metadata": {
    "execution": {
     "iopub.execute_input": "2025-01-21T16:20:26.526997Z",
     "iopub.status.busy": "2025-01-21T16:20:26.526711Z",
     "iopub.status.idle": "2025-01-21T16:20:27.327954Z",
     "shell.execute_reply": "2025-01-21T16:20:27.327299Z",
     "shell.execute_reply.started": "2025-01-21T16:20:26.526975Z"
    },
    "trusted": true
   },
   "outputs": [
    {
     "data": {
      "application/vnd.jupyter.widget-view+json": {
       "model_id": "5da62933abe44e77b38c6be3d0646045",
       "version_major": 2,
       "version_minor": 0
      },
      "text/plain": [
       "tokenizer_config.json:   0%|          | 0.00/49.0 [00:00<?, ?B/s]"
      ]
     },
     "metadata": {},
     "output_type": "display_data"
    },
    {
     "data": {
      "application/vnd.jupyter.widget-view+json": {
       "model_id": "09be9236478b4bec9b805694fdfcf784",
       "version_major": 2,
       "version_minor": 0
      },
      "text/plain": [
       "config.json:   0%|          | 0.00/570 [00:00<?, ?B/s]"
      ]
     },
     "metadata": {},
     "output_type": "display_data"
    },
    {
     "data": {
      "application/vnd.jupyter.widget-view+json": {
       "model_id": "6f332c754319466192674394596aba3e",
       "version_major": 2,
       "version_minor": 0
      },
      "text/plain": [
       "vocab.txt:   0%|          | 0.00/213k [00:00<?, ?B/s]"
      ]
     },
     "metadata": {},
     "output_type": "display_data"
    },
    {
     "data": {
      "application/vnd.jupyter.widget-view+json": {
       "model_id": "81d189a4508c4af6b7960ad7b6ebde7b",
       "version_major": 2,
       "version_minor": 0
      },
      "text/plain": [
       "tokenizer.json:   0%|          | 0.00/436k [00:00<?, ?B/s]"
      ]
     },
     "metadata": {},
     "output_type": "display_data"
    }
   ],
   "source": [
    "tokenizer = AutoTokenizer.from_pretrained(\"bert-base-cased\")\n",
    "\n",
    "train_dataset = HotelReviewsDataset(X_train, y_train, tokenizer)\n",
    "val_dataset = HotelReviewsDataset(X_val, y_val, tokenizer)\n",
    "test_dataset = HotelReviewsDataset(X_test, y_test, tokenizer)"
   ]
  },
  {
   "cell_type": "code",
   "execution_count": 10,
   "id": "575bafa1",
   "metadata": {
    "execution": {
     "iopub.execute_input": "2025-01-21T16:20:29.956676Z",
     "iopub.status.busy": "2025-01-21T16:20:29.956326Z",
     "iopub.status.idle": "2025-01-21T16:20:29.961217Z",
     "shell.execute_reply": "2025-01-21T16:20:29.960333Z",
     "shell.execute_reply.started": "2025-01-21T16:20:29.956645Z"
    },
    "trusted": true
   },
   "outputs": [],
   "source": [
    "train_loader = DataLoader(train_dataset, batch_size=32, shuffle=True)\n",
    "val_loader = DataLoader(val_dataset, batch_size=32)\n",
    "test_loader = DataLoader(test_dataset, batch_size=32)"
   ]
  },
  {
   "cell_type": "code",
   "execution_count": 11,
   "id": "66abcf1e",
   "metadata": {
    "execution": {
     "iopub.execute_input": "2025-01-21T16:20:31.006374Z",
     "iopub.status.busy": "2025-01-21T16:20:31.006048Z",
     "iopub.status.idle": "2025-01-21T16:20:31.013675Z",
     "shell.execute_reply": "2025-01-21T16:20:31.012764Z",
     "shell.execute_reply.started": "2025-01-21T16:20:31.006347Z"
    },
    "trusted": true
   },
   "outputs": [],
   "source": [
    "class CNNClassifier(nn.Module):\n",
    "    def __init__(self, vocab_size, embed_dim, num_classes=5):\n",
    "        super(CNNClassifier, self).__init__()\n",
    "        self.embedding = nn.Embedding(vocab_size, embed_dim)\n",
    "\n",
    "        self.conv1 = nn.Conv1d(embed_dim, 256, kernel_size=3, padding=1)\n",
    "        self.bn1 = nn.BatchNorm1d(256)\n",
    "        self.conv2 = nn.Conv1d(256, 128, kernel_size=3, padding=1)\n",
    "        self.bn2 = nn.BatchNorm1d(128)\n",
    "        self.conv3 = nn.Conv1d(128, 64, kernel_size=3, padding=1)\n",
    "        self.bn3 = nn.BatchNorm1d(64)\n",
    "\n",
    "        self.pool = nn.AdaptiveMaxPool1d(1)\n",
    "        self.dropout1 = nn.Dropout(0.2)\n",
    "        self.dropout2 = nn.Dropout(0.3)\n",
    "        self.fc = nn.Linear(64, num_classes)\n",
    "\n",
    "    def forward(self, x, attention_mask=None):\n",
    "        x = self.embedding(x)\n",
    "        x = x.permute(0, 2, 1)\n",
    "\n",
    "        x = self.conv1(x)\n",
    "        x = self.bn1(x)\n",
    "        x = torch.relu(x)\n",
    "        x = self.dropout1(x)\n",
    "\n",
    "        x = self.conv2(x)\n",
    "        x = self.bn2(x)\n",
    "        x = torch.relu(x)\n",
    "        x = self.dropout1(x)\n",
    "\n",
    "        x = self.conv3(x)\n",
    "        x = self.bn3(x)\n",
    "        x = torch.relu(x)\n",
    "\n",
    "        x = self.pool(x).squeeze(-1)\n",
    "        x = self.dropout2(x)\n",
    "        x = self.fc(x)\n",
    "\n",
    "        return x"
   ]
  },
  {
   "cell_type": "code",
   "execution_count": 12,
   "id": "b8c31111",
   "metadata": {
    "execution": {
     "iopub.execute_input": "2025-01-21T16:20:33.420220Z",
     "iopub.status.busy": "2025-01-21T16:20:33.419876Z",
     "iopub.status.idle": "2025-01-21T16:20:33.426340Z",
     "shell.execute_reply": "2025-01-21T16:20:33.425248Z",
     "shell.execute_reply.started": "2025-01-21T16:20:33.420190Z"
    },
    "trusted": true
   },
   "outputs": [],
   "source": [
    "class LSTMClassifier(nn.Module):\n",
    "    def __init__(self, vocab_size, embed_dim, hidden_dim, num_classes=5):\n",
    "        super(LSTMClassifier, self).__init__()\n",
    "        self.embedding = nn.Embedding(vocab_size, embed_dim)\n",
    "        self.lstm = nn.LSTM(\n",
    "            embed_dim, hidden_dim, num_layers=1, batch_first=True, bidirectional=True\n",
    "        )\n",
    "        self.attention = nn.Linear(hidden_dim * 2, 1)\n",
    "        self.dropout = nn.Dropout(0.2)\n",
    "        self.fc = nn.Linear(hidden_dim * 2, num_classes)\n",
    "\n",
    "    def forward(self, x, attention_mask=None):\n",
    "        embedded = self.embedding(x)\n",
    "\n",
    "        if attention_mask is not None:\n",
    "            embedded = embedded * attention_mask.unsqueeze(-1)\n",
    "\n",
    "        lstm_out, _ = self.lstm(embedded)\n",
    "\n",
    "        attention_weights = torch.softmax(self.attention(lstm_out), dim=1)\n",
    "        context_vector = torch.sum(attention_weights * lstm_out, dim=1)\n",
    "\n",
    "        x = self.dropout(context_vector)\n",
    "        x = self.fc(x)\n",
    "\n",
    "        return x"
   ]
  },
  {
   "cell_type": "code",
   "execution_count": null,
   "id": "f134c9f8",
   "metadata": {},
   "outputs": [],
   "source": [
    "class EarlyStopping:\n",
    "    def __init__(self, patience=5, min_delta=0):\n",
    "        self.patience = patience\n",
    "        self.min_delta = min_delta\n",
    "        self.counter = 0\n",
    "        self.best_loss = None\n",
    "        self.early_stop = False\n",
    "\n",
    "    def __call__(self, val_loss):\n",
    "        if self.best_loss is None:\n",
    "            self.best_loss = val_loss\n",
    "        elif val_loss > self.best_loss - self.min_delta:\n",
    "            self.counter += 1\n",
    "            if self.counter >= self.patience:\n",
    "                self.early_stop = True\n",
    "        else:\n",
    "            self.best_loss = val_loss\n",
    "            self.counter = 0"
   ]
  },
  {
   "cell_type": "code",
   "execution_count": 13,
   "id": "2f7dc973",
   "metadata": {
    "execution": {
     "iopub.execute_input": "2025-01-21T16:20:35.076851Z",
     "iopub.status.busy": "2025-01-21T16:20:35.076560Z",
     "iopub.status.idle": "2025-01-21T16:20:35.087239Z",
     "shell.execute_reply": "2025-01-21T16:20:35.086461Z",
     "shell.execute_reply.started": "2025-01-21T16:20:35.076830Z"
    },
    "trusted": true
   },
   "outputs": [],
   "source": [
    "def train_model(\n",
    "    model, train_loader, val_loader, criterion, optimizer, scheduler, num_epochs, device\n",
    "):\n",
    "    train_losses = []\n",
    "    val_losses = []\n",
    "    train_accuracies = []\n",
    "    val_accuracies = []\n",
    "\n",
    "    early_stopping = EarlyStopping(patience=5)\n",
    "\n",
    "    for epoch in range(num_epochs):\n",
    "        model.train()\n",
    "        train_loss = 0\n",
    "        correct = 0\n",
    "        total = 0\n",
    "\n",
    "        for batch in train_loader:\n",
    "            input_ids = batch[\"input_ids\"].to(device)\n",
    "            attention_mask = batch[\"attention_mask\"].to(device)\n",
    "            labels = batch[\"labels\"].to(device)\n",
    "\n",
    "            optimizer.zero_grad()\n",
    "            outputs = model(input_ids, attention_mask)\n",
    "            loss = criterion(outputs, labels)\n",
    "            loss.backward()\n",
    "            torch.nn.utils.clip_grad_norm_(model.parameters(), max_norm=1.0)\n",
    "            optimizer.step()\n",
    "\n",
    "            train_loss += loss.item()\n",
    "            _, predicted = torch.max(outputs.data, 1)\n",
    "            total += labels.size(0)\n",
    "            correct += (predicted == labels).sum().item()\n",
    "\n",
    "        train_loss = train_loss / len(train_loader)\n",
    "        train_accuracy = 100 * correct / total\n",
    "\n",
    "        model.eval()\n",
    "        val_loss = 0\n",
    "        correct = 0\n",
    "        total = 0\n",
    "\n",
    "        with torch.no_grad():\n",
    "            for batch in val_loader:\n",
    "                input_ids = batch[\"input_ids\"].to(device)\n",
    "                attention_mask = batch[\"attention_mask\"].to(device)\n",
    "                labels = batch[\"labels\"].to(device)\n",
    "\n",
    "                outputs = model(input_ids, attention_mask)\n",
    "                loss = criterion(outputs, labels)\n",
    "\n",
    "                val_loss += loss.item()\n",
    "                _, predicted = torch.max(outputs.data, 1)\n",
    "                total += labels.size(0)\n",
    "                correct += (predicted == labels).sum().item()\n",
    "\n",
    "        val_loss = val_loss / len(val_loader)\n",
    "        val_accuracy = 100 * correct / total\n",
    "\n",
    "        scheduler.step(val_loss)\n",
    "\n",
    "        train_losses.append(train_loss)\n",
    "        val_losses.append(val_loss)\n",
    "        train_accuracies.append(train_accuracy)\n",
    "        val_accuracies.append(val_accuracy)\n",
    "\n",
    "        print(f\"Эпоха {epoch+1}/{num_epochs}:\")\n",
    "        print(f\"Train Loss: {train_loss:.4f}, Train Accuracy: {train_accuracy:.2f}%\")\n",
    "        print(f\"Val Loss: {val_loss:.4f}, Val Accuracy: {val_accuracy:.2f}%\")\n",
    "\n",
    "        early_stopping(val_loss)\n",
    "        if early_stopping.early_stop:\n",
    "            print(\"Early stopping triggered\")\n",
    "            break\n",
    "\n",
    "    return train_losses, val_losses, train_accuracies, val_accuracies"
   ]
  },
  {
   "cell_type": "code",
   "execution_count": 14,
   "id": "99cc2c20",
   "metadata": {
    "execution": {
     "iopub.execute_input": "2025-01-21T16:20:39.335811Z",
     "iopub.status.busy": "2025-01-21T16:20:39.335485Z",
     "iopub.status.idle": "2025-01-21T16:20:39.339567Z",
     "shell.execute_reply": "2025-01-21T16:20:39.338658Z",
     "shell.execute_reply.started": "2025-01-21T16:20:39.335789Z"
    },
    "trusted": true
   },
   "outputs": [],
   "source": [
    "vocab_size = tokenizer.vocab_size\n",
    "\n",
    "embed_dim = 128\n",
    "hidden_dim = 256\n",
    "num_classes = 5"
   ]
  },
  {
   "cell_type": "code",
   "execution_count": 15,
   "id": "9c17192e",
   "metadata": {
    "execution": {
     "iopub.execute_input": "2025-01-21T16:20:40.679379Z",
     "iopub.status.busy": "2025-01-21T16:20:40.679085Z",
     "iopub.status.idle": "2025-01-21T16:20:40.751738Z",
     "shell.execute_reply": "2025-01-21T16:20:40.750766Z",
     "shell.execute_reply.started": "2025-01-21T16:20:40.679357Z"
    },
    "trusted": true
   },
   "outputs": [],
   "source": [
    "device = torch.device(\"cuda\" if torch.cuda.is_available() else \"cpu\")"
   ]
  },
  {
   "cell_type": "code",
   "execution_count": 16,
   "id": "fc10db6d",
   "metadata": {
    "execution": {
     "iopub.execute_input": "2025-01-21T16:20:44.049485Z",
     "iopub.status.busy": "2025-01-21T16:20:44.049187Z",
     "iopub.status.idle": "2025-01-21T16:20:44.338293Z",
     "shell.execute_reply": "2025-01-21T16:20:44.337403Z",
     "shell.execute_reply.started": "2025-01-21T16:20:44.049458Z"
    },
    "trusted": true
   },
   "outputs": [],
   "source": [
    "cnn_model = CNNClassifier(vocab_size, embed_dim, num_classes).to(device)\n",
    "criterion = nn.CrossEntropyLoss()\n",
    "optimizer = optim.Adam(cnn_model.parameters(), lr=1e-4, weight_decay=1e-5)\n",
    "scheduler = ReduceLROnPlateau(optimizer, mode=\"min\", patience=3, factor=0.5)"
   ]
  },
  {
   "cell_type": "code",
   "execution_count": 17,
   "id": "262728f4",
   "metadata": {
    "execution": {
     "iopub.execute_input": "2025-01-21T16:20:56.767322Z",
     "iopub.status.busy": "2025-01-21T16:20:56.767008Z",
     "iopub.status.idle": "2025-01-21T16:27:00.731286Z",
     "shell.execute_reply": "2025-01-21T16:27:00.730451Z",
     "shell.execute_reply.started": "2025-01-21T16:20:56.767298Z"
    },
    "trusted": true
   },
   "outputs": [
    {
     "name": "stdout",
     "output_type": "stream",
     "text": [
      "Эпоха 1/25:\n",
      "Train Loss: 1.5672, Train Accuracy: 37.21%\n",
      "Val Loss: 1.3775, Val Accuracy: 44.14%\n",
      "Эпоха 2/25:\n",
      "Train Loss: 1.4635, Train Accuracy: 39.03%\n",
      "Val Loss: 1.3259, Val Accuracy: 44.70%\n",
      "Эпоха 3/25:\n",
      "Train Loss: 1.3784, Train Accuracy: 41.87%\n",
      "Val Loss: 1.2274, Val Accuracy: 47.27%\n",
      "Эпоха 4/25:\n",
      "Train Loss: 1.2841, Train Accuracy: 45.01%\n",
      "Val Loss: 1.1407, Val Accuracy: 51.44%\n",
      "Эпоха 5/25:\n",
      "Train Loss: 1.2094, Train Accuracy: 48.12%\n",
      "Val Loss: 1.1011, Val Accuracy: 53.03%\n",
      "Эпоха 6/25:\n",
      "Train Loss: 1.1624, Train Accuracy: 50.49%\n",
      "Val Loss: 1.0664, Val Accuracy: 55.03%\n",
      "Эпоха 7/25:\n",
      "Train Loss: 1.1339, Train Accuracy: 51.67%\n",
      "Val Loss: 1.0441, Val Accuracy: 55.66%\n",
      "Эпоха 8/25:\n",
      "Train Loss: 1.0918, Train Accuracy: 53.44%\n",
      "Val Loss: 1.0242, Val Accuracy: 56.59%\n",
      "Эпоха 9/25:\n",
      "Train Loss: 1.0679, Train Accuracy: 53.98%\n",
      "Val Loss: 1.0112, Val Accuracy: 57.20%\n",
      "Эпоха 10/25:\n",
      "Train Loss: 1.0330, Train Accuracy: 56.15%\n",
      "Val Loss: 0.9880, Val Accuracy: 56.86%\n",
      "Эпоха 11/25:\n",
      "Train Loss: 1.0175, Train Accuracy: 56.31%\n",
      "Val Loss: 0.9752, Val Accuracy: 57.88%\n",
      "Эпоха 12/25:\n",
      "Train Loss: 0.9803, Train Accuracy: 57.95%\n",
      "Val Loss: 0.9618, Val Accuracy: 58.81%\n",
      "Эпоха 13/25:\n",
      "Train Loss: 0.9648, Train Accuracy: 58.40%\n",
      "Val Loss: 0.9524, Val Accuracy: 58.88%\n",
      "Эпоха 14/25:\n",
      "Train Loss: 0.9475, Train Accuracy: 59.41%\n",
      "Val Loss: 0.9378, Val Accuracy: 59.44%\n",
      "Эпоха 15/25:\n",
      "Train Loss: 0.9287, Train Accuracy: 59.56%\n",
      "Val Loss: 0.9273, Val Accuracy: 60.30%\n",
      "Эпоха 16/25:\n",
      "Train Loss: 0.9052, Train Accuracy: 60.79%\n",
      "Val Loss: 0.9255, Val Accuracy: 60.00%\n",
      "Эпоха 17/25:\n",
      "Train Loss: 0.8933, Train Accuracy: 61.58%\n",
      "Val Loss: 0.9125, Val Accuracy: 60.30%\n",
      "Эпоха 18/25:\n",
      "Train Loss: 0.8732, Train Accuracy: 62.09%\n",
      "Val Loss: 0.9161, Val Accuracy: 59.57%\n",
      "Эпоха 19/25:\n",
      "Train Loss: 0.8566, Train Accuracy: 62.76%\n",
      "Val Loss: 0.9061, Val Accuracy: 60.22%\n",
      "Эпоха 20/25:\n",
      "Train Loss: 0.8518, Train Accuracy: 62.64%\n",
      "Val Loss: 0.9070, Val Accuracy: 60.54%\n",
      "Эпоха 21/25:\n",
      "Train Loss: 0.8243, Train Accuracy: 64.36%\n",
      "Val Loss: 0.9171, Val Accuracy: 59.86%\n",
      "Эпоха 22/25:\n",
      "Train Loss: 0.8116, Train Accuracy: 64.55%\n",
      "Val Loss: 0.9096, Val Accuracy: 60.22%\n",
      "Эпоха 23/25:\n",
      "Train Loss: 0.7966, Train Accuracy: 65.97%\n",
      "Val Loss: 0.9228, Val Accuracy: 60.61%\n",
      "Эпоха 24/25:\n",
      "Train Loss: 0.7712, Train Accuracy: 66.30%\n",
      "Val Loss: 0.9037, Val Accuracy: 60.15%\n",
      "Эпоха 25/25:\n",
      "Train Loss: 0.7587, Train Accuracy: 67.46%\n",
      "Val Loss: 0.8990, Val Accuracy: 60.35%\n"
     ]
    }
   ],
   "source": [
    "cnn_results = train_model(\n",
    "    cnn_model,\n",
    "    train_loader,\n",
    "    val_loader,\n",
    "    criterion,\n",
    "    optimizer,\n",
    "    scheduler,\n",
    "    num_epochs=25,\n",
    "    device=device,\n",
    ")"
   ]
  },
  {
   "cell_type": "code",
   "execution_count": 18,
   "id": "652dc75c",
   "metadata": {
    "execution": {
     "iopub.execute_input": "2025-01-21T16:27:00.732659Z",
     "iopub.status.busy": "2025-01-21T16:27:00.732413Z",
     "iopub.status.idle": "2025-01-21T16:27:00.801314Z",
     "shell.execute_reply": "2025-01-21T16:27:00.800713Z",
     "shell.execute_reply.started": "2025-01-21T16:27:00.732640Z"
    },
    "trusted": true
   },
   "outputs": [],
   "source": [
    "lstm_model = LSTMClassifier(vocab_size, embed_dim, hidden_dim, num_classes).to(device)\n",
    "optimizer = optim.Adam(lstm_model.parameters(), lr=1e-4, weight_decay=1e-5)\n",
    "scheduler = ReduceLROnPlateau(optimizer, mode=\"min\", patience=3, factor=0.5)"
   ]
  },
  {
   "cell_type": "code",
   "execution_count": 19,
   "id": "e0940297",
   "metadata": {
    "execution": {
     "iopub.execute_input": "2025-01-21T16:27:00.802874Z",
     "iopub.status.busy": "2025-01-21T16:27:00.802638Z",
     "iopub.status.idle": "2025-01-21T16:31:44.775794Z",
     "shell.execute_reply": "2025-01-21T16:31:44.774868Z",
     "shell.execute_reply.started": "2025-01-21T16:27:00.802853Z"
    },
    "trusted": true
   },
   "outputs": [
    {
     "name": "stdout",
     "output_type": "stream",
     "text": [
      "Эпоха 1/25:\n",
      "Train Loss: 1.3319, Train Accuracy: 44.40%\n",
      "Val Loss: 1.2448, Val Accuracy: 45.14%\n",
      "Эпоха 2/25:\n",
      "Train Loss: 1.1689, Train Accuracy: 48.08%\n",
      "Val Loss: 1.1384, Val Accuracy: 49.59%\n",
      "Эпоха 3/25:\n",
      "Train Loss: 1.0695, Train Accuracy: 52.61%\n",
      "Val Loss: 1.0607, Val Accuracy: 52.95%\n",
      "Эпоха 4/25:\n",
      "Train Loss: 1.0031, Train Accuracy: 55.73%\n",
      "Val Loss: 1.0702, Val Accuracy: 51.32%\n",
      "Эпоха 5/25:\n",
      "Train Loss: 0.9605, Train Accuracy: 58.32%\n",
      "Val Loss: 1.0346, Val Accuracy: 55.22%\n",
      "Эпоха 6/25:\n",
      "Train Loss: 0.9275, Train Accuracy: 59.42%\n",
      "Val Loss: 0.9728, Val Accuracy: 57.32%\n",
      "Эпоха 7/25:\n",
      "Train Loss: 0.8999, Train Accuracy: 60.90%\n",
      "Val Loss: 0.9549, Val Accuracy: 58.08%\n",
      "Эпоха 8/25:\n",
      "Train Loss: 0.8751, Train Accuracy: 61.49%\n",
      "Val Loss: 0.9549, Val Accuracy: 57.32%\n",
      "Эпоха 9/25:\n",
      "Train Loss: 0.8538, Train Accuracy: 62.62%\n",
      "Val Loss: 0.9683, Val Accuracy: 56.12%\n",
      "Эпоха 10/25:\n",
      "Train Loss: 0.8338, Train Accuracy: 64.06%\n",
      "Val Loss: 0.9455, Val Accuracy: 59.08%\n",
      "Эпоха 11/25:\n",
      "Train Loss: 0.8107, Train Accuracy: 64.70%\n",
      "Val Loss: 0.9269, Val Accuracy: 59.08%\n",
      "Эпоха 12/25:\n",
      "Train Loss: 0.7934, Train Accuracy: 65.15%\n",
      "Val Loss: 0.9311, Val Accuracy: 59.37%\n",
      "Эпоха 13/25:\n",
      "Train Loss: 0.7661, Train Accuracy: 66.89%\n",
      "Val Loss: 0.9216, Val Accuracy: 58.57%\n",
      "Эпоха 14/25:\n",
      "Train Loss: 0.7435, Train Accuracy: 67.87%\n",
      "Val Loss: 0.9452, Val Accuracy: 59.35%\n",
      "Эпоха 15/25:\n",
      "Train Loss: 0.7277, Train Accuracy: 68.77%\n",
      "Val Loss: 0.9271, Val Accuracy: 59.61%\n",
      "Эпоха 16/25:\n",
      "Train Loss: 0.7157, Train Accuracy: 69.48%\n",
      "Val Loss: 0.9259, Val Accuracy: 59.83%\n",
      "Эпоха 17/25:\n",
      "Train Loss: 0.6922, Train Accuracy: 70.20%\n",
      "Val Loss: 0.9340, Val Accuracy: 60.03%\n",
      "Эпоха 18/25:\n",
      "Train Loss: 0.6531, Train Accuracy: 72.73%\n",
      "Val Loss: 0.9525, Val Accuracy: 59.54%\n",
      "Early stopping triggered\n"
     ]
    }
   ],
   "source": [
    "lstm_results = train_model(\n",
    "    lstm_model,\n",
    "    train_loader,\n",
    "    val_loader,\n",
    "    criterion,\n",
    "    optimizer,\n",
    "    scheduler,\n",
    "    num_epochs=25,\n",
    "    device=device,\n",
    ")"
   ]
  },
  {
   "cell_type": "code",
   "execution_count": 20,
   "id": "d405b6f6",
   "metadata": {
    "execution": {
     "iopub.execute_input": "2025-01-21T16:31:44.777243Z",
     "iopub.status.busy": "2025-01-21T16:31:44.776963Z",
     "iopub.status.idle": "2025-01-21T16:31:44.782931Z",
     "shell.execute_reply": "2025-01-21T16:31:44.782235Z",
     "shell.execute_reply.started": "2025-01-21T16:31:44.777220Z"
    },
    "trusted": true
   },
   "outputs": [],
   "source": [
    "def plot_metrics(cnn_results, lstm_results):\n",
    "    fig, (ax1, ax2) = plt.subplots(1, 2, figsize=(15, 5))\n",
    "\n",
    "    ax1.plot(cnn_results[0], label=\"CNN Train\")\n",
    "    ax1.plot(cnn_results[1], label=\"CNN Val\")\n",
    "    ax1.plot(lstm_results[0], label=\"LSTM Train\")\n",
    "    ax1.plot(lstm_results[1], label=\"LSTM Val\")\n",
    "    ax1.set_title(\"Loss\")\n",
    "    ax1.set_xlabel(\"Эпоха\")\n",
    "    ax1.set_ylabel(\"Loss\")\n",
    "    ax1.legend()\n",
    "    ax1.grid(True)\n",
    "\n",
    "    ax2.plot(cnn_results[2], label=\"CNN Train\")\n",
    "    ax2.plot(cnn_results[3], label=\"CNN Val\")\n",
    "    ax2.plot(lstm_results[2], label=\"LSTM Train\")\n",
    "    ax2.plot(lstm_results[3], label=\"LSTM Val\")\n",
    "    ax2.set_title(\"Accuracy\")\n",
    "    ax2.set_xlabel(\"Эпоха\")\n",
    "    ax2.set_ylabel(\"Accuracy (%)\")\n",
    "    ax2.legend()\n",
    "    ax2.grid(True)\n",
    "\n",
    "    plt.tight_layout()\n",
    "    \n",
    "    plt.show()"
   ]
  },
  {
   "cell_type": "code",
   "execution_count": 21,
   "id": "258d04bf",
   "metadata": {
    "execution": {
     "iopub.execute_input": "2025-01-21T16:31:44.783892Z",
     "iopub.status.busy": "2025-01-21T16:31:44.783710Z",
     "iopub.status.idle": "2025-01-21T16:31:45.291271Z",
     "shell.execute_reply": "2025-01-21T16:31:45.290456Z",
     "shell.execute_reply.started": "2025-01-21T16:31:44.783876Z"
    },
    "trusted": true
   },
   "outputs": [
    {
     "data": {
      "image/png": "[encoded data removed]",
      "text/plain": [
       "<Figure size 1500x500 with 2 Axes>"
      ]
     },
     "metadata": {},
     "output_type": "display_data"
    }
   ],
   "source": [
    "plot_metrics(cnn_results, lstm_results)"
   ]
  },
  {
   "cell_type": "markdown",
   "id": "370604fc",
   "metadata": {},
   "source": [
    "# Выводы\n",
    "\n",
    "- CNN стабильно снижает функцию потерь как на тренировочной, так и на валидационной выборке\n",
    "- LSTM быстрее снижает функцию потерь на тренировочных данных, но менее стабильно на валидации\n",
    "- Стоит применить сильнее регуляризацию для LSTM модели и увеличить сложность CNN модели"
   ]
  },
  {
   "cell_type": "code",
   "execution_count": null,
   "id": "39bc6fa6",
   "metadata": {},
   "outputs": [],
   "source": []
  }
 ],
 "metadata": {
  "kaggle": {
   "accelerator": "nvidiaTeslaT4",
   "dataSources": [
    {
     "databundleVersionId": 1561039,
     "datasetId": 897156,
     "sourceId": 1526618,
     "sourceType": "datasetVersion"
    }
   ],
   "dockerImageVersionId": 30840,
   "isGpuEnabled": true,
   "isInternetEnabled": true,
   "language": "python",
   "sourceType": "notebook"
  },
  "kernelspec": {
   "display_name": "Python 3",
   "language": "python",
   "name": "python3"
  },
  "language_info": {
   "codemirror_mode": {
    "name": "ipython",
    "version": 3
   },
   "file_extension": ".py",
   "mimetype": "text/x-python",
   "name": "python",
   "nbconvert_exporter": "python",
   "pygments_lexer": "ipython3",
   "version": "3.10.12"
  }
 },
 "nbformat": 4,
 "nbformat_minor": 5
}
